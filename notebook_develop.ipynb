{
 "cells": [
  {
   "cell_type": "code",
   "execution_count": 2,
   "id": "5d9e6f47",
   "metadata": {},
   "outputs": [],
   "source": [
    "# Author: AmirHossein Alyian\n",
    "# Date: 2022/3/2"
   ]
  },
  {
   "cell_type": "code",
   "execution_count": 55,
   "id": "4693fb5c",
   "metadata": {},
   "outputs": [],
   "source": [
    "import re"
   ]
  },
  {
   "cell_type": "code",
   "execution_count": 3,
   "id": "b9024e80",
   "metadata": {},
   "outputs": [],
   "source": [
    "from instagrapi import Client"
   ]
  },
  {
   "cell_type": "code",
   "execution_count": 4,
   "id": "87dd75b0",
   "metadata": {},
   "outputs": [],
   "source": [
    "cl = Client()"
   ]
  },
  {
   "cell_type": "code",
   "execution_count": 32,
   "id": "9552196a",
   "metadata": {},
   "outputs": [],
   "source": [
    "USER = \"amirh4lyian\"\n",
    "PASS = \"CiV8kvub3Z\"\n",
    "PASS = \"CIV8kvub3z\""
   ]
  },
  {
   "cell_type": "code",
   "execution_count": 33,
   "id": "53f4f28f",
   "metadata": {},
   "outputs": [
    {
     "data": {
      "text/plain": [
       "True"
      ]
     },
     "execution_count": 33,
     "metadata": {},
     "output_type": "execute_result"
    }
   ],
   "source": [
    "cl.login(USER, PASS)"
   ]
  },
  {
   "cell_type": "code",
   "execution_count": 54,
   "id": "4e5d97cc",
   "metadata": {},
   "outputs": [],
   "source": [
    "def parsing_users(data):\n",
    "    users = set()\n",
    "    for i in range(len(data)):\n",
    "        key = str(data[i])\n",
    "        a = key.find(\"' username='\") + len(\"', username='\") -1\n",
    "        b = key.find(\"' full_name=\")\n",
    "        users.add(key[a:b])\n",
    "    return users\n",
    "\n",
    "class User:\n",
    "    \n",
    "    def __init__(self, username):\n",
    "        self.username = username\n",
    "        self.userid = cl.user_id_from_username(username)\n",
    "    \n",
    "    def info(self):\n",
    "        return cl.user_info(self.userid)\n",
    "    \n",
    "    def get_followers(self):\n",
    "        '''this function will find user followers'''\n",
    "        data = cl.user_following(self.userid)\n",
    "        data = list(data.values())\n",
    "        return parsing_users(data)\n",
    "    \n",
    "    def get_following(self):\n",
    "        '''this function will find user following'''\n",
    "        data = cl.user_following(self.userid)\n",
    "        data = list(data.values())\n",
    "        return parsing_users(data)\n",
    "    \n",
    "    def is_followers(self, username):\n",
    "        if username in self.get_followers():\n",
    "            return 0\n",
    "        else:\n",
    "            return -1\n",
    "    \n",
    "    def is_following(self, username):\n",
    "        if username in self.get_following():\n",
    "            return 0\n",
    "        else:\n",
    "            return -1\n",
    "    \n",
    "    def search_followers(self, KEY):\n",
    "        pass\n",
    "    \n",
    "    def search_following(self, KEY):\n",
    "        pass"
   ]
  },
  {
   "cell_type": "code",
   "execution_count": 8,
   "id": "5f5c5708",
   "metadata": {},
   "outputs": [],
   "source": [
    "arash = User(\"arash__intelligence\")\n",
    "tarsa = User(\"amirtarsa_\")\n",
    "nabegheha = User(\"nabegheha.tv\")\n",
    "jadi = User(\"jadijadinet\")\n",
    "mehran = User(\"mehrankhosravani\")\n",
    "daghayeghi = User(\"alidaghayeghi1378\")"
   ]
  },
  {
   "cell_type": "code",
   "execution_count": 53,
   "id": "b018887c",
   "metadata": {},
   "outputs": [
    {
     "data": {
      "text/plain": [
       "0"
      ]
     },
     "execution_count": 53,
     "metadata": {},
     "output_type": "execute_result"
    }
   ],
   "source": [
    "amir = User(USER)\n",
    "amir.is_followers(\"quera.ir\")"
   ]
  },
  {
   "cell_type": "code",
   "execution_count": 35,
   "id": "c88a0aac",
   "metadata": {},
   "outputs": [],
   "source": [
    "listx = arya.get_following()"
   ]
  },
  {
   "cell_type": "code",
   "execution_count": 56,
   "id": "c3e37874",
   "metadata": {},
   "outputs": [
    {
     "data": {
      "text/plain": [
       "{'alikashfi',\n",
       " 'arash__intelligence',\n",
       " 'arta_fitness_',\n",
       " 'atousa.pourkashiyan',\n",
       " 'azarunivpr',\n",
       " 'codewithrazi',\n",
       " 'coffeellaa',\n",
       " 'eb_home',\n",
       " 'farahmand_alipour',\n",
       " 'firouz_michael_naderi',\n",
       " 'hamed_raeisy_org',\n",
       " 'hooshi72',\n",
       " 'infinity_set',\n",
       " 'jadijadinet',\n",
       " 'khamenei_ir',\n",
       " 'kixcodes',\n",
       " 'komputerka',\n",
       " 'lash.star.gallery',\n",
       " 'linuxiha',\n",
       " 'lpicfarsi',\n",
       " 'marvel_tradee',\n",
       " 'mehrankhosravani',\n",
       " 'mr.developer',\n",
       " 'nabegheha.tv',\n",
       " 'nasa',\n",
       " 'niloofarworld',\n",
       " 'nobodys.left',\n",
       " 'noushinloghmani.nlk',\n",
       " 'opencontent.ir',\n",
       " 'persiansoverheard',\n",
       " 'psychology_.plus',\n",
       " 'quera.ir',\n",
       " 'raisi_org',\n",
       " 's.m.p_managing',\n",
       " 'scholarship_niloofar',\n",
       " 'seyedhamidrezahashemi',\n",
       " 'shahab.ghasemii',\n",
       " 'shirin',\n",
       " 'shit.ism',\n",
       " 'tehlug',\n",
       " 'ubuntu_ir',\n",
       " 'viramon_smartening',\n",
       " 'vvahideh.molavi',\n",
       " 'zharfa_hm',\n",
       " 'zohre.barzegaaar'}"
      ]
     },
     "execution_count": 56,
     "metadata": {},
     "output_type": "execute_result"
    }
   ],
   "source": [
    "listx"
   ]
  },
  {
   "cell_type": "code",
   "execution_count": 36,
   "id": "6ec6c551",
   "metadata": {},
   "outputs": [],
   "source": [
    "users = set()\n",
    "with open(\"users.txt\", \"r\") as f:\n",
    "    content = f.readlines()\n",
    "for line in content:\n",
    "    users.add(line.strip())"
   ]
  },
  {
   "cell_type": "code",
   "execution_count": 38,
   "id": "a7b6b972",
   "metadata": {},
   "outputs": [],
   "source": [
    "with open(\"followed_from_arash.txt\", \"w\") as f:\n",
    "    for line in (listx & users):\n",
    "        f.writelines(line + \"\\n\")"
   ]
  },
  {
   "cell_type": "code",
   "execution_count": 43,
   "id": "5a205067",
   "metadata": {},
   "outputs": [],
   "source": [
    "for i in range(len(listx)):\n",
    "    listx[i] = cl.user_id_from_username(listx[i])"
   ]
  },
  {
   "cell_type": "code",
   "execution_count": 45,
   "id": "7db9ed14",
   "metadata": {},
   "outputs": [],
   "source": [
    "for user in listx:\n",
    "    cl.user_follow(user)"
   ]
  }
 ],
 "metadata": {
  "kernelspec": {
   "display_name": "Python 3 (ipykernel)",
   "language": "python",
   "name": "python3"
  },
  "language_info": {
   "codemirror_mode": {
    "name": "ipython",
    "version": 3
   },
   "file_extension": ".py",
   "mimetype": "text/x-python",
   "name": "python",
   "nbconvert_exporter": "python",
   "pygments_lexer": "ipython3",
   "version": "3.9.8"
  }
 },
 "nbformat": 4,
 "nbformat_minor": 5
}
