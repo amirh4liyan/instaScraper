{
 "cells": [
  {
   "cell_type": "code",
   "execution_count": 1,
   "id": "5d9e6f47",
   "metadata": {},
   "outputs": [],
   "source": [
    "# Author: AmirHossein Alyian\n",
    "# Date: 2022/3/2"
   ]
  },
  {
   "cell_type": "code",
   "execution_count": 55,
   "id": "4693fb5c",
   "metadata": {},
   "outputs": [],
   "source": [
    "import re"
   ]
  },
  {
   "cell_type": "code",
   "execution_count": 2,
   "id": "b9024e80",
   "metadata": {},
   "outputs": [],
   "source": [
    "from instagrapi import Client"
   ]
  },
  {
   "cell_type": "code",
   "execution_count": 3,
   "id": "87dd75b0",
   "metadata": {},
   "outputs": [],
   "source": [
    "cl = Client()"
   ]
  },
  {
   "cell_type": "code",
   "execution_count": 4,
   "id": "9552196a",
   "metadata": {},
   "outputs": [],
   "source": [
    "USER = \"amirh4lyian\"\n",
    "PASS = \"CiV8kvub3Z\"\n",
    "PASS = \"CIV8kvub3z\""
   ]
  },
  {
   "cell_type": "code",
   "execution_count": 5,
   "id": "53f4f28f",
   "metadata": {},
   "outputs": [
    {
     "data": {
      "text/plain": [
       "True"
      ]
     },
     "execution_count": 5,
     "metadata": {},
     "output_type": "execute_result"
    }
   ],
   "source": [
    "cl.login(USER, PASS)"
   ]
  },
  {
   "cell_type": "code",
   "execution_count": 81,
   "id": "68ad4ca4",
   "metadata": {},
   "outputs": [],
   "source": [
    "KEYS = [\n",
    "    \"username\", \"full_name\", \"is_private\", \"profile_pic_url\", \"is_verified\", \"media_count\",\n",
    "    \"follower_count\", \"following_count\",\"biography\", \"external_url\", \"is_business\", \"public_email\",\n",
    "    \"contact_phone_number\", \"business_contact_method\", \"business_category_name\", \"category_name\"\n",
    "]\n",
    "\n",
    "def parse_string(text, key):\n",
    "    value = \"-1\"\n",
    "    if key in text:\n",
    "        index = KEYS.index(key)\n",
    "        a = text.find(f\" {KEYS[index]}=\") + len(f\" {KEYS[index]}=\")\n",
    "        try: \n",
    "            b = text.find(f\" {KEYS[index+1]}=\")\n",
    "        except: \n",
    "            b = -1\n",
    "        value = text[a:b].strip(\"'\")\n",
    "    return value"
   ]
  },
  {
   "cell_type": "code",
   "execution_count": 86,
   "id": "4e5d97cc",
   "metadata": {},
   "outputs": [],
   "source": [
    "class User:\n",
    "    \n",
    "    def __init__(self, username):\n",
    "        self.username = username\n",
    "        self.userid = cl.user_id_from_username(username)\n",
    "    \n",
    "    def info(self):\n",
    "        return cl.user_info(self.userid)\n",
    "    \n",
    "    def get_followers(self):\n",
    "        '''this function will find user followers'''\n",
    "        users = set()\n",
    "        data = list(cl.user_followers(self.userid).values())\n",
    "        for case in data:\n",
    "            user = parse_string(str(case), \"username\")\n",
    "            users.add(user)\n",
    "        return users\n",
    "    \n",
    "    def get_following(self):\n",
    "        '''this function will find user following'''\n",
    "        users = set()\n",
    "        data = list(cl.user_following(self.userid).values())\n",
    "        for case in data:\n",
    "            user = parse_string(str(case), \"username\")\n",
    "            users.add(user)\n",
    "        return users\n",
    "    \n",
    "    def is_followers(self, username):\n",
    "        if username in self.get_followers():\n",
    "            return 0\n",
    "        else:\n",
    "            return -1\n",
    "    \n",
    "    def is_following(self, username):\n",
    "        if username in self.get_following():\n",
    "            return 0\n",
    "        else:\n",
    "            return -1\n",
    "    \n",
    "    def search_followers(self, KEY):\n",
    "        pass\n",
    "    \n",
    "    def search_following(self, KEY):\n",
    "        pass"
   ]
  },
  {
   "cell_type": "code",
   "execution_count": 7,
   "id": "5f5c5708",
   "metadata": {},
   "outputs": [],
   "source": [
    "arash = User(\"arash__intelligence\")\n",
    "tarsa = User(\"amirtarsa_\")\n",
    "nabegheha = User(\"nabegheha.tv\")\n",
    "jadi = User(\"jadijadinet\")\n",
    "mehran = User(\"mehrankhosravani\")\n",
    "daghayeghi = User(\"alidaghayeghi1378\")"
   ]
  },
  {
   "cell_type": "code",
   "execution_count": 89,
   "id": "af6c57ca",
   "metadata": {},
   "outputs": [
    {
     "data": {
      "text/plain": [
       "0"
      ]
     },
     "execution_count": 89,
     "metadata": {},
     "output_type": "execute_result"
    }
   ],
   "source": [
    "amir = User(\"amirh4lyian\")\n",
    "amir.is_followers(\"codewithrazi\")"
   ]
  },
  {
   "cell_type": "code",
   "execution_count": 82,
   "id": "b018887c",
   "metadata": {},
   "outputs": [
    {
     "name": "stdout",
     "output_type": "stream",
     "text": [
      "pk='51779048842' username='codewithrazi' full_name='' profile_pic_url=HttpUrl('https://scontent-vie1-1.cdninstagram.com/v/t51.2885-19/275008196_491940639202830_3988919153682851704_n.jpg?stp=dst-jpg_s150x150&_nc_ht=scontent-vie1-1.cdninstagram.com&_nc_cat=106&_nc_ohc=fs6c4512mtIAX9ichgC&edm=ALB854YBAAAA&ccb=7-4&oh=00_AT9WKz9IEIGnUaf35TRwVu26oMpM-6qvo_3S5PZemD18mw&oe=622806FF&_nc_sid=04cb80', scheme='https', host='scontent-vie1-1.cdninstagram.com', tld='com', host_type='domain', port='443', path='/v/t51.2885-19/275008196_491940639202830_3988919153682851704_n.jpg', query='stp=dst-jpg_s150x150&_nc_ht=scontent-vie1-1.cdninstagram.com&_nc_cat=106&_nc_ohc=fs6c4512mtIAX9ichgC&edm=ALB854YBAAAA&ccb=7-4&oh=00_AT9WKz9IEIGnUaf35TRwVu26oMpM-6qvo_3S5PZemD18mw&oe=622806FF&_nc_sid=04cb80') profile_pic_url_hd=None is_private=False stories=[]\n",
      "pk='475375193' username='mehrankhosravani' full_name='Mehran Khosravani' profile_pic_url=HttpUrl('https://scontent-vie1-1.cdninstagram.com/v/t51.2885-19/30086363_369684756770782_8805113518681489408_n.jpg?stp=dst-jpg_s150x150&_nc_ht=scontent-vie1-1.cdninstagram.com&_nc_cat=110&_nc_ohc=jfBigGE8D4QAX_6jBZJ&edm=ALB854YBAAAA&ccb=7-4&oh=00_AT-LzqmrlUX2NhdlA68sp8b4RehiKXXjVaWqgnpN4BQnEg&oe=6228E4D0&_nc_sid=04cb80', scheme='https', host='scontent-vie1-1.cdninstagram.com', tld='com', host_type='domain', port='443', path='/v/t51.2885-19/30086363_369684756770782_8805113518681489408_n.jpg', query='stp=dst-jpg_s150x150&_nc_ht=scontent-vie1-1.cdninstagram.com&_nc_cat=110&_nc_ohc=jfBigGE8D4QAX_6jBZJ&edm=ALB854YBAAAA&ccb=7-4&oh=00_AT-LzqmrlUX2NhdlA68sp8b4RehiKXXjVaWqgnpN4BQnEg&oe=6228E4D0&_nc_sid=04cb80') profile_pic_url_hd=None is_private=True stories=[]\n",
      "pk='10107950064' username='azarunivpr' full_name='دانشگاه شهید مدنی آذربایجان' profile_pic_url=HttpUrl('https://scontent-vie1-1.cdninstagram.com/v/t51.2885-19/135374123_420339039408148_3176909632805978417_n.jpg?stp=dst-jpg_s150x150&_nc_ht=scontent-vie1-1.cdninstagram.com&_nc_cat=104&_nc_ohc=jlEKv96LoqQAX8j5fHv&edm=ALB854YBAAAA&ccb=7-4&oh=00_AT_J_BtceK6oZ9jeH0I6emaEN4-RvHRRuBNwOE8BMltKQA&oe=6228DAFB&_nc_sid=04cb80', scheme='https', host='scontent-vie1-1.cdninstagram.com', tld='com', host_type='domain', port='443', path='/v/t51.2885-19/135374123_420339039408148_3176909632805978417_n.jpg', query='stp=dst-jpg_s150x150&_nc_ht=scontent-vie1-1.cdninstagram.com&_nc_cat=104&_nc_ohc=jlEKv96LoqQAX8j5fHv&edm=ALB854YBAAAA&ccb=7-4&oh=00_AT_J_BtceK6oZ9jeH0I6emaEN4-RvHRRuBNwOE8BMltKQA&oe=6228DAFB&_nc_sid=04cb80') profile_pic_url_hd=None is_private=False stories=[]\n",
      "pk='16831094470' username='nabegheha.tv' full_name='NABEGHEHA.COM | نابغه\\u200cها' profile_pic_url=HttpUrl('https://scontent-vie1-1.cdninstagram.com/v/t51.2885-19/254338041_187576353460478_3766343563147012707_n.jpg?stp=dst-jpg_s150x150&_nc_ht=scontent-vie1-1.cdninstagram.com&_nc_cat=102&_nc_ohc=x3nxwOp0Q9IAX-EQtka&edm=ALB854YBAAAA&ccb=7-4&oh=00_AT8t8pJEyQvyiyLi0bke6Wc6Y5K6O3hm0Miwa-ZYUWJhkg&oe=6228ADF8&_nc_sid=04cb80', scheme='https', host='scontent-vie1-1.cdninstagram.com', tld='com', host_type='domain', port='443', path='/v/t51.2885-19/254338041_187576353460478_3766343563147012707_n.jpg', query='stp=dst-jpg_s150x150&_nc_ht=scontent-vie1-1.cdninstagram.com&_nc_cat=102&_nc_ohc=x3nxwOp0Q9IAX-EQtka&edm=ALB854YBAAAA&ccb=7-4&oh=00_AT8t8pJEyQvyiyLi0bke6Wc6Y5K6O3hm0Miwa-ZYUWJhkg&oe=6228ADF8&_nc_sid=04cb80') profile_pic_url_hd=None is_private=False stories=[]\n",
      "pk='1506074013' username='jadijadinet' full_name='Jadi' profile_pic_url=HttpUrl('https://scontent-vie1-1.cdninstagram.com/v/t51.2885-19/10748292_1488400858093609_1488861933_a.jpg?_nc_ht=scontent-vie1-1.cdninstagram.com&_nc_cat=101&_nc_ohc=YyyzhYTejhAAX8LSn6Z&edm=ALB854YBAAAA&ccb=7-4&oh=00_AT_WYZEYI-NsGgngy6kO8tauFdCAjHATv65C8T6x7_Y6-Q&oe=62293DA9&_nc_sid=04cb80', scheme='https', host='scontent-vie1-1.cdninstagram.com', tld='com', host_type='domain', port='443', path='/v/t51.2885-19/10748292_1488400858093609_1488861933_a.jpg', query='_nc_ht=scontent-vie1-1.cdninstagram.com&_nc_cat=101&_nc_ohc=YyyzhYTejhAAX8LSn6Z&edm=ALB854YBAAAA&ccb=7-4&oh=00_AT_WYZEYI-NsGgngy6kO8tauFdCAjHATv65C8T6x7_Y6-Q&oe=62293DA9&_nc_sid=04cb80') profile_pic_url_hd=None is_private=False stories=[]\n",
      "pk='2177494300' username='infinity_set' full_name='بهترین حراج ها داخل استوری☠️🤟' profile_pic_url=HttpUrl('https://scontent-vie1-1.cdninstagram.com/v/t51.2885-19/270249956_317343600216739_2603739820608055227_n.jpg?stp=dst-jpg_s150x150&_nc_ht=scontent-vie1-1.cdninstagram.com&_nc_cat=107&_nc_ohc=Q-3PX5jKJOcAX9tyqNc&edm=ALB854YBAAAA&ccb=7-4&oh=00_AT8MgkkEcgMUBCstRQ3EG6LsKbpiArWHaVNLzds0jDZaBQ&oe=6229ECC5&_nc_sid=04cb80', scheme='https', host='scontent-vie1-1.cdninstagram.com', tld='com', host_type='domain', port='443', path='/v/t51.2885-19/270249956_317343600216739_2603739820608055227_n.jpg', query='stp=dst-jpg_s150x150&_nc_ht=scontent-vie1-1.cdninstagram.com&_nc_cat=107&_nc_ohc=Q-3PX5jKJOcAX9tyqNc&edm=ALB854YBAAAA&ccb=7-4&oh=00_AT8MgkkEcgMUBCstRQ3EG6LsKbpiArWHaVNLzds0jDZaBQ&oe=6229ECC5&_nc_sid=04cb80') profile_pic_url_hd=None is_private=False stories=[]\n",
      "pk='197997900' username='khamenei_ir' full_name='Ayatollah Seyed Ali Khamenei' profile_pic_url=HttpUrl('https://scontent-vie1-1.cdninstagram.com/v/t51.2885-19/271459224_586330299221980_4999110232892287116_n.jpg?stp=dst-jpg_s150x150&_nc_ht=scontent-vie1-1.cdninstagram.com&_nc_cat=1&_nc_ohc=2w0JgiTWghkAX-i3tD2&edm=ALB854YBAAAA&ccb=7-4&oh=00_AT9AY-A4Tq40UfJSw26retQnpzNjzXzb4JKLjQ6tDmRLng&oe=62292A20&_nc_sid=04cb80', scheme='https', host='scontent-vie1-1.cdninstagram.com', tld='com', host_type='domain', port='443', path='/v/t51.2885-19/271459224_586330299221980_4999110232892287116_n.jpg', query='stp=dst-jpg_s150x150&_nc_ht=scontent-vie1-1.cdninstagram.com&_nc_cat=1&_nc_ohc=2w0JgiTWghkAX-i3tD2&edm=ALB854YBAAAA&ccb=7-4&oh=00_AT9AY-A4Tq40UfJSw26retQnpzNjzXzb4JKLjQ6tDmRLng&oe=62292A20&_nc_sid=04cb80') profile_pic_url_hd=None is_private=False stories=[]\n",
      "pk='2376155965' username='raisi_org' full_name='سید ابراهیم رئیسی' profile_pic_url=HttpUrl('https://scontent-vie1-1.cdninstagram.com/v/t51.2885-19/69108707_831330497264470_7254555064113561600_n.jpg?stp=dst-jpg_s150x150&_nc_ht=scontent-vie1-1.cdninstagram.com&_nc_cat=1&_nc_ohc=NL6nJWjiTdoAX9AbuFc&edm=ALB854YBAAAA&ccb=7-4&oh=00_AT9kgzTapdQkl1QAsUtIqvFlouY7_g0T2JGm36XCtYBz2Q&oe=6229150B&_nc_sid=04cb80', scheme='https', host='scontent-vie1-1.cdninstagram.com', tld='com', host_type='domain', port='443', path='/v/t51.2885-19/69108707_831330497264470_7254555064113561600_n.jpg', query='stp=dst-jpg_s150x150&_nc_ht=scontent-vie1-1.cdninstagram.com&_nc_cat=1&_nc_ohc=NL6nJWjiTdoAX9AbuFc&edm=ALB854YBAAAA&ccb=7-4&oh=00_AT9kgzTapdQkl1QAsUtIqvFlouY7_g0T2JGm36XCtYBz2Q&oe=6229150B&_nc_sid=04cb80') profile_pic_url_hd=None is_private=False stories=[]\n",
      "pk='49473649900' username='viramon_smartening' full_name='ElectroTajhiz Azarbaijan' profile_pic_url=HttpUrl('https://scontent-vie1-1.cdninstagram.com/v/t51.2885-19/273574524_519420412936085_5903078227195546340_n.jpg?stp=dst-jpg_s150x150&_nc_ht=scontent-vie1-1.cdninstagram.com&_nc_cat=105&_nc_ohc=3nibnMGPb2YAX_xSt87&edm=ALB854YBAAAA&ccb=7-4&oh=00_AT8k3bUdK89nWdp_Ttm4pwB1RjtswGiOtlhYkKSID21G_A&oe=6228C7E3&_nc_sid=04cb80', scheme='https', host='scontent-vie1-1.cdninstagram.com', tld='com', host_type='domain', port='443', path='/v/t51.2885-19/273574524_519420412936085_5903078227195546340_n.jpg', query='stp=dst-jpg_s150x150&_nc_ht=scontent-vie1-1.cdninstagram.com&_nc_cat=105&_nc_ohc=3nibnMGPb2YAX_xSt87&edm=ALB854YBAAAA&ccb=7-4&oh=00_AT8k3bUdK89nWdp_Ttm4pwB1RjtswGiOtlhYkKSID21G_A&oe=6228C7E3&_nc_sid=04cb80') profile_pic_url_hd=None is_private=False stories=[]\n",
      "pk='45480599041' username='lpicfarsi' full_name='LPICآموزش  نکات لینوکس و آزمون' profile_pic_url=HttpUrl('https://scontent-vie1-1.cdninstagram.com/v/t51.2885-19/146036471_777579496180082_8426282599811752746_n.jpg?stp=dst-jpg_s150x150&_nc_ht=scontent-vie1-1.cdninstagram.com&_nc_cat=102&_nc_ohc=IRaf-gkA4SwAX-E8yYb&edm=ALB854YBAAAA&ccb=7-4&oh=00_AT9XupmWY9mzFa0jqpRMUoR1VJWrTXRzpsweKUSGmtZZlg&oe=6229A88A&_nc_sid=04cb80', scheme='https', host='scontent-vie1-1.cdninstagram.com', tld='com', host_type='domain', port='443', path='/v/t51.2885-19/146036471_777579496180082_8426282599811752746_n.jpg', query='stp=dst-jpg_s150x150&_nc_ht=scontent-vie1-1.cdninstagram.com&_nc_cat=102&_nc_ohc=IRaf-gkA4SwAX-E8yYb&edm=ALB854YBAAAA&ccb=7-4&oh=00_AT9XupmWY9mzFa0jqpRMUoR1VJWrTXRzpsweKUSGmtZZlg&oe=6229A88A&_nc_sid=04cb80') profile_pic_url_hd=None is_private=False stories=[]\n",
      "pk='490771482' username='shahab.ghasemii' full_name='آموزش آلمانی با شهاب قاسمی🇩🇪' profile_pic_url=HttpUrl('https://scontent-vie1-1.cdninstagram.com/v/t51.2885-19/190861823_510997549940378_8608507056666503326_n.jpg?stp=dst-jpg_s150x150&_nc_ht=scontent-vie1-1.cdninstagram.com&_nc_cat=102&_nc_ohc=7v1-fDdg4LUAX9uHKUF&edm=ALB854YBAAAA&ccb=7-4&oh=00_AT-Kmk89yhjXF41ljAUievj_jNgOPS5b33sIZsHFPzFlcg&oe=6229A72C&_nc_sid=04cb80', scheme='https', host='scontent-vie1-1.cdninstagram.com', tld='com', host_type='domain', port='443', path='/v/t51.2885-19/190861823_510997549940378_8608507056666503326_n.jpg', query='stp=dst-jpg_s150x150&_nc_ht=scontent-vie1-1.cdninstagram.com&_nc_cat=102&_nc_ohc=7v1-fDdg4LUAX9uHKUF&edm=ALB854YBAAAA&ccb=7-4&oh=00_AT-Kmk89yhjXF41ljAUievj_jNgOPS5b33sIZsHFPzFlcg&oe=6229A72C&_nc_sid=04cb80') profile_pic_url_hd=None is_private=False stories=[]\n",
      "pk='47567116205' username='s.m.p_managing' full_name='Supreme Marvel Pioneer(S.M.P.)' profile_pic_url=HttpUrl('https://scontent-vie1-1.cdninstagram.com/v/t51.2885-19/270257858_1099510244210036_4990900842163698113_n.jpg?stp=dst-jpg_s150x150&_nc_ht=scontent-vie1-1.cdninstagram.com&_nc_cat=108&_nc_ohc=pw7dDCHkz5kAX_OhN--&edm=ALB854YBAAAA&ccb=7-4&oh=00_AT-RkF9vnloM7SzeW0k1PLsnH03FjJjnEBUakoawTOY9Qg&oe=6228D209&_nc_sid=04cb80', scheme='https', host='scontent-vie1-1.cdninstagram.com', tld='com', host_type='domain', port='443', path='/v/t51.2885-19/270257858_1099510244210036_4990900842163698113_n.jpg', query='stp=dst-jpg_s150x150&_nc_ht=scontent-vie1-1.cdninstagram.com&_nc_cat=108&_nc_ohc=pw7dDCHkz5kAX_OhN--&edm=ALB854YBAAAA&ccb=7-4&oh=00_AT-RkF9vnloM7SzeW0k1PLsnH03FjJjnEBUakoawTOY9Qg&oe=6228D209&_nc_sid=04cb80') profile_pic_url_hd=None is_private=True stories=[]\n",
      "pk='21650762856' username='zohre.barzegaaar' full_name='Zohre Barzegar' profile_pic_url=HttpUrl('https://scontent-vie1-1.cdninstagram.com/v/t51.2885-19/273527791_480200970176994_3832773039446817145_n.jpg?stp=dst-jpg_s150x150&_nc_ht=scontent-vie1-1.cdninstagram.com&_nc_cat=106&_nc_ohc=xcvN-nMBnoUAX8h8GH4&edm=ALB854YBAAAA&ccb=7-4&oh=00_AT_oprjiXC3-K8tcFrTDMFhv3t-_qMD23YHalh1eTYSmsw&oe=62298C2D&_nc_sid=04cb80', scheme='https', host='scontent-vie1-1.cdninstagram.com', tld='com', host_type='domain', port='443', path='/v/t51.2885-19/273527791_480200970176994_3832773039446817145_n.jpg', query='stp=dst-jpg_s150x150&_nc_ht=scontent-vie1-1.cdninstagram.com&_nc_cat=106&_nc_ohc=xcvN-nMBnoUAX8h8GH4&edm=ALB854YBAAAA&ccb=7-4&oh=00_AT_oprjiXC3-K8tcFrTDMFhv3t-_qMD23YHalh1eTYSmsw&oe=62298C2D&_nc_sid=04cb80') profile_pic_url_hd=None is_private=False stories=[]\n",
      "pk='201951656' username='farahmand_alipour' full_name='Farahmand' profile_pic_url=HttpUrl('https://scontent-vie1-1.cdninstagram.com/v/t51.2885-19/85257792_640189366736193_6079961171710967808_n.jpg?stp=dst-jpg_s150x150&_nc_ht=scontent-vie1-1.cdninstagram.com&_nc_cat=1&_nc_ohc=QUjTXZisqiwAX-T3zYv&edm=ALB854YBAAAA&ccb=7-4&oh=00_AT-zU7eMEizaOPkc5FByMJI4eljQNKwyDbABQLp2NBUd0w&oe=6228712E&_nc_sid=04cb80', scheme='https', host='scontent-vie1-1.cdninstagram.com', tld='com', host_type='domain', port='443', path='/v/t51.2885-19/85257792_640189366736193_6079961171710967808_n.jpg', query='stp=dst-jpg_s150x150&_nc_ht=scontent-vie1-1.cdninstagram.com&_nc_cat=1&_nc_ohc=QUjTXZisqiwAX-T3zYv&edm=ALB854YBAAAA&ccb=7-4&oh=00_AT-zU7eMEizaOPkc5FByMJI4eljQNKwyDbABQLp2NBUd0w&oe=6228712E&_nc_sid=04cb80') profile_pic_url_hd=None is_private=False stories=[]\n",
      "pk='2279529888' username='zharfa_hm' full_name='دست سازه ژرفا |دستبند ، آویز' profile_pic_url=HttpUrl('https://scontent-vie1-1.cdninstagram.com/v/t51.2885-19/122007301_137179751460144_3413230135363471297_n.jpg?stp=dst-jpg_s150x150&_nc_ht=scontent-vie1-1.cdninstagram.com&_nc_cat=100&_nc_ohc=E_9dgiAcNgwAX8mJm6H&edm=ALB854YBAAAA&ccb=7-4&oh=00_AT__ZbvV1e2Njq1NcGFXgvvHzlDJr0prr8jeIR7LHbedPQ&oe=622884D6&_nc_sid=04cb80', scheme='https', host='scontent-vie1-1.cdninstagram.com', tld='com', host_type='domain', port='443', path='/v/t51.2885-19/122007301_137179751460144_3413230135363471297_n.jpg', query='stp=dst-jpg_s150x150&_nc_ht=scontent-vie1-1.cdninstagram.com&_nc_cat=100&_nc_ohc=E_9dgiAcNgwAX8mJm6H&edm=ALB854YBAAAA&ccb=7-4&oh=00_AT__ZbvV1e2Njq1NcGFXgvvHzlDJr0prr8jeIR7LHbedPQ&oe=622884D6&_nc_sid=04cb80') profile_pic_url_hd=None is_private=False stories=[]\n",
      "pk='4535472425' username='lash.star.gallery' full_name='amirhossein.mozayeni' profile_pic_url=HttpUrl('https://scontent-vie1-1.cdninstagram.com/v/t51.2885-19/61367986_2214613168759194_2168780007114014720_n.jpg?stp=dst-jpg_s150x150&_nc_ht=scontent-vie1-1.cdninstagram.com&_nc_cat=106&_nc_ohc=jZE9C8D1oksAX_AnJ3s&edm=ALB854YBAAAA&ccb=7-4&oh=00_AT90frm2AvFef_xBzAL3gSLPSs167s-tbTJRvZUDKjTTpA&oe=6228573F&_nc_sid=04cb80', scheme='https', host='scontent-vie1-1.cdninstagram.com', tld='com', host_type='domain', port='443', path='/v/t51.2885-19/61367986_2214613168759194_2168780007114014720_n.jpg', query='stp=dst-jpg_s150x150&_nc_ht=scontent-vie1-1.cdninstagram.com&_nc_cat=106&_nc_ohc=jZE9C8D1oksAX_AnJ3s&edm=ALB854YBAAAA&ccb=7-4&oh=00_AT90frm2AvFef_xBzAL3gSLPSs167s-tbTJRvZUDKjTTpA&oe=6228573F&_nc_sid=04cb80') profile_pic_url_hd=None is_private=False stories=[]\n",
      "pk='41859939098' username='psychology_.plus' full_name='مجله آنلاين روانشناسى' profile_pic_url=HttpUrl('https://scontent-vie1-1.cdninstagram.com/v/t51.2885-19/198136660_915075479069050_7992458130765237820_n.jpg?stp=dst-jpg_s150x150&_nc_ht=scontent-vie1-1.cdninstagram.com&_nc_cat=110&_nc_ohc=ZMjK0pg-AZEAX-qnUio&edm=ALB854YBAAAA&ccb=7-4&oh=00_AT8yua8LgQOl91trHz1sadKjasYlrnHHwfGFo9ktap-gnQ&oe=62293028&_nc_sid=04cb80', scheme='https', host='scontent-vie1-1.cdninstagram.com', tld='com', host_type='domain', port='443', path='/v/t51.2885-19/198136660_915075479069050_7992458130765237820_n.jpg', query='stp=dst-jpg_s150x150&_nc_ht=scontent-vie1-1.cdninstagram.com&_nc_cat=110&_nc_ohc=ZMjK0pg-AZEAX-qnUio&edm=ALB854YBAAAA&ccb=7-4&oh=00_AT8yua8LgQOl91trHz1sadKjasYlrnHHwfGFo9ktap-gnQ&oe=62293028&_nc_sid=04cb80') profile_pic_url_hd=None is_private=False stories=[]\n",
      "pk='7997037197' username='scholarship_niloofar' full_name='Niloofar~닐루' profile_pic_url=HttpUrl('https://scontent-vie1-1.cdninstagram.com/v/t51.2885-19/90089867_217159836356481_5110145659214757888_n.jpg?stp=dst-jpg_s150x150&_nc_ht=scontent-vie1-1.cdninstagram.com&_nc_cat=109&_nc_ohc=exNIgBKCtv4AX_KAHnK&edm=ALB854YBAAAA&ccb=7-4&oh=00_AT86aNtAkAovAoBJ-Nb1Kq1t9MjJN0APv9tqakggfehWww&oe=622870BD&_nc_sid=04cb80', scheme='https', host='scontent-vie1-1.cdninstagram.com', tld='com', host_type='domain', port='443', path='/v/t51.2885-19/90089867_217159836356481_5110145659214757888_n.jpg', query='stp=dst-jpg_s150x150&_nc_ht=scontent-vie1-1.cdninstagram.com&_nc_cat=109&_nc_ohc=exNIgBKCtv4AX_KAHnK&edm=ALB854YBAAAA&ccb=7-4&oh=00_AT86aNtAkAovAoBJ-Nb1Kq1t9MjJN0APv9tqakggfehWww&oe=622870BD&_nc_sid=04cb80') profile_pic_url_hd=None is_private=False stories=[]\n",
      "pk='50275737293' username='hamed_raeisy_org' full_name='حامد رئیسی' profile_pic_url=HttpUrl('https://scontent-vie1-1.cdninstagram.com/v/t51.2885-19/251150472_642997743371449_262325973979402282_n.jpg?stp=dst-jpg_s150x150&_nc_ht=scontent-vie1-1.cdninstagram.com&_nc_cat=1&_nc_ohc=oVWSYKN_ESYAX_lszF1&edm=ALB854YBAAAA&ccb=7-4&oh=00_AT87gw2HNGcPC2of6EkJYC488hQQUckkYDl4jFrr8H1G2w&oe=62288200&_nc_sid=04cb80', scheme='https', host='scontent-vie1-1.cdninstagram.com', tld='com', host_type='domain', port='443', path='/v/t51.2885-19/251150472_642997743371449_262325973979402282_n.jpg', query='stp=dst-jpg_s150x150&_nc_ht=scontent-vie1-1.cdninstagram.com&_nc_cat=1&_nc_ohc=oVWSYKN_ESYAX_lszF1&edm=ALB854YBAAAA&ccb=7-4&oh=00_AT87gw2HNGcPC2of6EkJYC488hQQUckkYDl4jFrr8H1G2w&oe=62288200&_nc_sid=04cb80') profile_pic_url_hd=None is_private=False stories=[]\n",
      "pk='4333779444' username='marvel_tradee' full_name='🇮🇷پيج رسمي گروه مارول تريد🇬🇧' profile_pic_url=HttpUrl('https://scontent-vie1-1.cdninstagram.com/v/t51.2885-19/193639418_230666808461292_8802160986335028207_n.jpg?stp=dst-jpg_s150x150&_nc_ht=scontent-vie1-1.cdninstagram.com&_nc_cat=100&_nc_ohc=0Q83apCH7B0AX-csM_W&edm=ALB854YBAAAA&ccb=7-4&oh=00_AT80GO518wguG4rPNVRvjMaA_cUVxMEYG_AUyK-CfKCH1w&oe=6228689E&_nc_sid=04cb80', scheme='https', host='scontent-vie1-1.cdninstagram.com', tld='com', host_type='domain', port='443', path='/v/t51.2885-19/193639418_230666808461292_8802160986335028207_n.jpg', query='stp=dst-jpg_s150x150&_nc_ht=scontent-vie1-1.cdninstagram.com&_nc_cat=100&_nc_ohc=0Q83apCH7B0AX-csM_W&edm=ALB854YBAAAA&ccb=7-4&oh=00_AT80GO518wguG4rPNVRvjMaA_cUVxMEYG_AUyK-CfKCH1w&oe=6228689E&_nc_sid=04cb80') profile_pic_url_hd=None is_private=False stories=[]\n",
      "pk='3225854292' username='noushinloghmani.nlk' full_name='Noushin Loghmani' profile_pic_url=HttpUrl('https://scontent-vie1-1.cdninstagram.com/v/t51.2885-19/121206194_173531024393660_9110301825489533878_n.jpg?stp=dst-jpg_s150x150&_nc_ht=scontent-vie1-1.cdninstagram.com&_nc_cat=108&_nc_ohc=NrbjedeI8dAAX9EyUWu&edm=ALB854YBAAAA&ccb=7-4&oh=00_AT8Y93UJjr5Rc5wRFfH79u6HjoKpfIkxeHZARjjduEQjVA&oe=6228F23A&_nc_sid=04cb80', scheme='https', host='scontent-vie1-1.cdninstagram.com', tld='com', host_type='domain', port='443', path='/v/t51.2885-19/121206194_173531024393660_9110301825489533878_n.jpg', query='stp=dst-jpg_s150x150&_nc_ht=scontent-vie1-1.cdninstagram.com&_nc_cat=108&_nc_ohc=NrbjedeI8dAAX9EyUWu&edm=ALB854YBAAAA&ccb=7-4&oh=00_AT8Y93UJjr5Rc5wRFfH79u6HjoKpfIkxeHZARjjduEQjVA&oe=6228F23A&_nc_sid=04cb80') profile_pic_url_hd=None is_private=False stories=[]\n",
      "pk='2970799215' username='eb_home' full_name='خانه ای\\u200cبی EB Home' profile_pic_url=HttpUrl('https://scontent-vie1-1.cdninstagram.com/v/t51.2885-19/271701692_318124493569931_3155656843673984132_n.jpg?stp=dst-jpg_s150x150&_nc_ht=scontent-vie1-1.cdninstagram.com&_nc_cat=111&_nc_ohc=ETXertMko1AAX_yMqFG&edm=ALB854YBAAAA&ccb=7-4&oh=00_AT_M5WU1H0MTOXjxIwFbzFwrROv2L9Ouet8nOfzyJlGOWQ&oe=6228B3A8&_nc_sid=04cb80', scheme='https', host='scontent-vie1-1.cdninstagram.com', tld='com', host_type='domain', port='443', path='/v/t51.2885-19/271701692_318124493569931_3155656843673984132_n.jpg', query='stp=dst-jpg_s150x150&_nc_ht=scontent-vie1-1.cdninstagram.com&_nc_cat=111&_nc_ohc=ETXertMko1AAX_yMqFG&edm=ALB854YBAAAA&ccb=7-4&oh=00_AT_M5WU1H0MTOXjxIwFbzFwrROv2L9Ouet8nOfzyJlGOWQ&oe=6228B3A8&_nc_sid=04cb80') profile_pic_url_hd=None is_private=False stories=[]\n",
      "pk='47763280305' username='vvahideh.molavi' full_name='وحیده مولوی' profile_pic_url=HttpUrl('https://scontent-vie1-1.cdninstagram.com/v/t51.2885-19/175937658_1010945652769328_7518747314536446486_n.jpg?stp=dst-jpg_s150x150&_nc_ht=scontent-vie1-1.cdninstagram.com&_nc_cat=108&_nc_ohc=dKbS9NtSVjcAX-wAsCV&edm=ALB854YBAAAA&ccb=7-4&oh=00_AT_1xt1KC_RKTVMgzBf2oRwF28ECRY1vQNdZG0wJv_Wp3Q&oe=6228F8E2&_nc_sid=04cb80', scheme='https', host='scontent-vie1-1.cdninstagram.com', tld='com', host_type='domain', port='443', path='/v/t51.2885-19/175937658_1010945652769328_7518747314536446486_n.jpg', query='stp=dst-jpg_s150x150&_nc_ht=scontent-vie1-1.cdninstagram.com&_nc_cat=108&_nc_ohc=dKbS9NtSVjcAX-wAsCV&edm=ALB854YBAAAA&ccb=7-4&oh=00_AT_1xt1KC_RKTVMgzBf2oRwF28ECRY1vQNdZG0wJv_Wp3Q&oe=6228F8E2&_nc_sid=04cb80') profile_pic_url_hd=None is_private=False stories=[]\n",
      "pk='7494714449' username='komputerka' full_name='زیر و بم بازی | کامپیوترکا' profile_pic_url=HttpUrl('https://scontent-vie1-1.cdninstagram.com/v/t51.2885-19/121284642_636871450323465_6936546898580420528_n.jpg?stp=dst-jpg_s150x150&_nc_ht=scontent-vie1-1.cdninstagram.com&_nc_cat=109&_nc_ohc=hoeZPtmSQxwAX-0TtBq&edm=ALB854YBAAAA&ccb=7-4&oh=00_AT-gPsgkjmt-MrwtZ2Musw2GCde_CvMylPgApvxKmOSdhw&oe=62295220&_nc_sid=04cb80', scheme='https', host='scontent-vie1-1.cdninstagram.com', tld='com', host_type='domain', port='443', path='/v/t51.2885-19/121284642_636871450323465_6936546898580420528_n.jpg', query='stp=dst-jpg_s150x150&_nc_ht=scontent-vie1-1.cdninstagram.com&_nc_cat=109&_nc_ohc=hoeZPtmSQxwAX-0TtBq&edm=ALB854YBAAAA&ccb=7-4&oh=00_AT-gPsgkjmt-MrwtZ2Musw2GCde_CvMylPgApvxKmOSdhw&oe=62295220&_nc_sid=04cb80') profile_pic_url_hd=None is_private=False stories=[]\n",
      "pk='219297139' username='shirin' full_name='✵𝓢𝓱𝓲𝓻𝓲𝓷✵' profile_pic_url=HttpUrl('https://scontent-vie1-1.cdninstagram.com/v/t51.2885-19/240514721_517108776050853_2042099354814593300_n.jpg?stp=dst-jpg_s150x150&_nc_ht=scontent-vie1-1.cdninstagram.com&_nc_cat=109&_nc_ohc=SN1v3yZ7M98AX_XQQpv&edm=ALB854YBAAAA&ccb=7-4&oh=00_AT8mQYHle8Hlm46ACrO8rRG3Bm8wk3GEhDQQmAYX8DUFQw&oe=6229445E&_nc_sid=04cb80', scheme='https', host='scontent-vie1-1.cdninstagram.com', tld='com', host_type='domain', port='443', path='/v/t51.2885-19/240514721_517108776050853_2042099354814593300_n.jpg', query='stp=dst-jpg_s150x150&_nc_ht=scontent-vie1-1.cdninstagram.com&_nc_cat=109&_nc_ohc=SN1v3yZ7M98AX_XQQpv&edm=ALB854YBAAAA&ccb=7-4&oh=00_AT8mQYHle8Hlm46ACrO8rRG3Bm8wk3GEhDQQmAYX8DUFQw&oe=6229445E&_nc_sid=04cb80') profile_pic_url_hd=None is_private=False stories=[]\n",
      "pk='46137630206' username='coffeellaa' full_name='قهوه و چای ماسالا کافیلا ☕' profile_pic_url=HttpUrl('https://scontent-vie1-1.cdninstagram.com/v/t51.2885-19/153347121_861181598065461_550344505255904262_n.jpg?stp=dst-jpg_s150x150&_nc_ht=scontent-vie1-1.cdninstagram.com&_nc_cat=109&_nc_ohc=HzK1gbAK-MkAX9ixZy5&edm=ALB854YBAAAA&ccb=7-4&oh=00_AT9OYrkWvbm6Vn0Mg2w3-F8UVDBcew_-E3QxhIrqOpNhZQ&oe=62293644&_nc_sid=04cb80', scheme='https', host='scontent-vie1-1.cdninstagram.com', tld='com', host_type='domain', port='443', path='/v/t51.2885-19/153347121_861181598065461_550344505255904262_n.jpg', query='stp=dst-jpg_s150x150&_nc_ht=scontent-vie1-1.cdninstagram.com&_nc_cat=109&_nc_ohc=HzK1gbAK-MkAX9ixZy5&edm=ALB854YBAAAA&ccb=7-4&oh=00_AT9OYrkWvbm6Vn0Mg2w3-F8UVDBcew_-E3QxhIrqOpNhZQ&oe=62293644&_nc_sid=04cb80') profile_pic_url_hd=None is_private=False stories=[]\n",
      "pk='23766010409' username='opencontent.ir' full_name='محتوای باز' profile_pic_url=HttpUrl('https://scontent-vie1-1.cdninstagram.com/v/t51.2885-19/72629863_479589359433760_6436692513842528256_n.jpg?stp=dst-jpg_s150x150&_nc_ht=scontent-vie1-1.cdninstagram.com&_nc_cat=104&_nc_ohc=rSy4gyUD5hMAX9QDV1B&edm=ALB854YBAAAA&ccb=7-4&oh=00_AT_ISqJGokh21hnlBbJCFFAr-DYufg7kLAszL2BJeaY4TQ&oe=62290E29&_nc_sid=04cb80', scheme='https', host='scontent-vie1-1.cdninstagram.com', tld='com', host_type='domain', port='443', path='/v/t51.2885-19/72629863_479589359433760_6436692513842528256_n.jpg', query='stp=dst-jpg_s150x150&_nc_ht=scontent-vie1-1.cdninstagram.com&_nc_cat=104&_nc_ohc=rSy4gyUD5hMAX9QDV1B&edm=ALB854YBAAAA&ccb=7-4&oh=00_AT_ISqJGokh21hnlBbJCFFAr-DYufg7kLAszL2BJeaY4TQ&oe=62290E29&_nc_sid=04cb80') profile_pic_url_hd=None is_private=False stories=[]\n",
      "pk='37349587403' username='hooshi72' full_name='hooshi' profile_pic_url=HttpUrl('https://scontent-vie1-1.cdninstagram.com/v/t51.2885-19/104627665_603910000250344_2572197384501262500_n.jpg?stp=dst-jpg_s150x150&_nc_ht=scontent-vie1-1.cdninstagram.com&_nc_cat=104&_nc_ohc=RHlm_xxKC5sAX8nVWfo&edm=ALB854YBAAAA&ccb=7-4&oh=00_AT-ICE3b2z55zahHmL9sHj3ikedrFtBQgJ1QH8eMpyAXzg&oe=6228E1CA&_nc_sid=04cb80', scheme='https', host='scontent-vie1-1.cdninstagram.com', tld='com', host_type='domain', port='443', path='/v/t51.2885-19/104627665_603910000250344_2572197384501262500_n.jpg', query='stp=dst-jpg_s150x150&_nc_ht=scontent-vie1-1.cdninstagram.com&_nc_cat=104&_nc_ohc=RHlm_xxKC5sAX8nVWfo&edm=ALB854YBAAAA&ccb=7-4&oh=00_AT-ICE3b2z55zahHmL9sHj3ikedrFtBQgJ1QH8eMpyAXzg&oe=6228E1CA&_nc_sid=04cb80') profile_pic_url_hd=None is_private=False stories=[]\n",
      "pk='1934424565' username='atousa.pourkashiyan' full_name='Atousa Pourkashiyan / شطرنج' profile_pic_url=HttpUrl('https://scontent-vie1-1.cdninstagram.com/v/t51.2885-19/254500533_630103144684418_5104682222980186228_n.jpg?stp=dst-jpg_s150x150&_nc_ht=scontent-vie1-1.cdninstagram.com&_nc_cat=102&_nc_ohc=rBUPmeBp1foAX_80bTn&edm=ALB854YBAAAA&ccb=7-4&oh=00_AT-jmUCKOdMYnp7UrKDgjrpLHsFP2ADzpS-LfgEL9XbFSA&oe=6228D845&_nc_sid=04cb80', scheme='https', host='scontent-vie1-1.cdninstagram.com', tld='com', host_type='domain', port='443', path='/v/t51.2885-19/254500533_630103144684418_5104682222980186228_n.jpg', query='stp=dst-jpg_s150x150&_nc_ht=scontent-vie1-1.cdninstagram.com&_nc_cat=102&_nc_ohc=rBUPmeBp1foAX_80bTn&edm=ALB854YBAAAA&ccb=7-4&oh=00_AT-jmUCKOdMYnp7UrKDgjrpLHsFP2ADzpS-LfgEL9XbFSA&oe=6228D845&_nc_sid=04cb80') profile_pic_url_hd=None is_private=False stories=[]\n",
      "pk='8933957626' username='arash__intelligence' full_name='Arash' profile_pic_url=HttpUrl('https://scontent-vie1-1.cdninstagram.com/v/t51.2885-19/237482785_517317086224291_3539561252188565284_n.jpg?stp=dst-jpg_s150x150&_nc_ht=scontent-vie1-1.cdninstagram.com&_nc_cat=1&_nc_ohc=1grqwo9payAAX-HWUwZ&edm=ALB854YBAAAA&ccb=7-4&oh=00_AT_4AZoh7L88aQuVj1uPcqUyPcs0JG_OCiIOmGaGcGrujg&oe=6228E53D&_nc_sid=04cb80', scheme='https', host='scontent-vie1-1.cdninstagram.com', tld='com', host_type='domain', port='443', path='/v/t51.2885-19/237482785_517317086224291_3539561252188565284_n.jpg', query='stp=dst-jpg_s150x150&_nc_ht=scontent-vie1-1.cdninstagram.com&_nc_cat=1&_nc_ohc=1grqwo9payAAX-HWUwZ&edm=ALB854YBAAAA&ccb=7-4&oh=00_AT_4AZoh7L88aQuVj1uPcqUyPcs0JG_OCiIOmGaGcGrujg&oe=6228E53D&_nc_sid=04cb80') profile_pic_url_hd=None is_private=False stories=[]\n",
      "pk='33654062216' username='mr.developer' full_name='خدمات طراحی سایت و اپلیکیشن' profile_pic_url=HttpUrl('https://scontent-vie1-1.cdninstagram.com/v/t51.2885-19/157623943_2870393429916197_2595645685804530569_n.jpg?stp=dst-jpg_s150x150&_nc_ht=scontent-vie1-1.cdninstagram.com&_nc_cat=105&_nc_ohc=60MFksit3E8AX8R57Mn&edm=ALB854YBAAAA&ccb=7-4&oh=00_AT8_y1IwQ5hqoUKMFioSHReUxDzqVMGQcwFlXepk2LrJfQ&oe=6229EE08&_nc_sid=04cb80', scheme='https', host='scontent-vie1-1.cdninstagram.com', tld='com', host_type='domain', port='443', path='/v/t51.2885-19/157623943_2870393429916197_2595645685804530569_n.jpg', query='stp=dst-jpg_s150x150&_nc_ht=scontent-vie1-1.cdninstagram.com&_nc_cat=105&_nc_ohc=60MFksit3E8AX8R57Mn&edm=ALB854YBAAAA&ccb=7-4&oh=00_AT8_y1IwQ5hqoUKMFioSHReUxDzqVMGQcwFlXepk2LrJfQ&oe=6229EE08&_nc_sid=04cb80') profile_pic_url_hd=None is_private=False stories=[]\n",
      "pk='32984733184' username='shit.ism' full_name='شطيسم | Shitism' profile_pic_url=HttpUrl('https://scontent-vie1-1.cdninstagram.com/v/t51.2885-19/174852528_1092962451225829_2763739395268823255_n.jpg?stp=dst-jpg_s150x150&_nc_ht=scontent-vie1-1.cdninstagram.com&_nc_cat=1&_nc_ohc=O5vOPnxYxUkAX_Xoae6&edm=ALB854YBAAAA&ccb=7-4&oh=00_AT8pY1kuLRmDOLCnC2SISUjvO3KtTWH8Hklp19yQnBTh2g&oe=622960E5&_nc_sid=04cb80', scheme='https', host='scontent-vie1-1.cdninstagram.com', tld='com', host_type='domain', port='443', path='/v/t51.2885-19/174852528_1092962451225829_2763739395268823255_n.jpg', query='stp=dst-jpg_s150x150&_nc_ht=scontent-vie1-1.cdninstagram.com&_nc_cat=1&_nc_ohc=O5vOPnxYxUkAX_Xoae6&edm=ALB854YBAAAA&ccb=7-4&oh=00_AT8pY1kuLRmDOLCnC2SISUjvO3KtTWH8Hklp19yQnBTh2g&oe=622960E5&_nc_sid=04cb80') profile_pic_url_hd=None is_private=False stories=[]\n",
      "pk='182844977' username='alikashfi' full_name='Ali Kashfi' profile_pic_url=HttpUrl('https://scontent-vie1-1.cdninstagram.com/v/t51.2885-19/260793942_595503548323619_2636382689767548457_n.jpg?stp=dst-jpg_s150x150&_nc_ht=scontent-vie1-1.cdninstagram.com&_nc_cat=111&_nc_ohc=TYRL6w69uCoAX-VcOIK&edm=ALB854YBAAAA&ccb=7-4&oh=00_AT-tift6WTnbLGuP_NuEwJxnLSKxzEN8OSvGP3Mp8eKHrA&oe=62295ADB&_nc_sid=04cb80', scheme='https', host='scontent-vie1-1.cdninstagram.com', tld='com', host_type='domain', port='443', path='/v/t51.2885-19/260793942_595503548323619_2636382689767548457_n.jpg', query='stp=dst-jpg_s150x150&_nc_ht=scontent-vie1-1.cdninstagram.com&_nc_cat=111&_nc_ohc=TYRL6w69uCoAX-VcOIK&edm=ALB854YBAAAA&ccb=7-4&oh=00_AT-tift6WTnbLGuP_NuEwJxnLSKxzEN8OSvGP3Mp8eKHrA&oe=62295ADB&_nc_sid=04cb80') profile_pic_url_hd=None is_private=False stories=[]\n",
      "pk='2210904736' username='seyedhamidrezahashemi' full_name='سیدحمیدرضا هاشمی گلپایگانی' profile_pic_url=HttpUrl('https://scontent-vie1-1.cdninstagram.com/v/t51.2885-19/11356589_1706346676262495_2092585563_a.jpg?stp=dst-jpg_s150x150&_nc_ht=scontent-vie1-1.cdninstagram.com&_nc_cat=111&_nc_ohc=luaEeadMv4EAX_C4gjV&edm=ALB854YBAAAA&ccb=7-4&oh=00_AT9tHlJZMj0Mt3sd0FR48prG9TDKpI22O7uAGAhVBfL5gg&oe=62293B09&_nc_sid=04cb80', scheme='https', host='scontent-vie1-1.cdninstagram.com', tld='com', host_type='domain', port='443', path='/v/t51.2885-19/11356589_1706346676262495_2092585563_a.jpg', query='stp=dst-jpg_s150x150&_nc_ht=scontent-vie1-1.cdninstagram.com&_nc_cat=111&_nc_ohc=luaEeadMv4EAX_C4gjV&edm=ALB854YBAAAA&ccb=7-4&oh=00_AT9tHlJZMj0Mt3sd0FR48prG9TDKpI22O7uAGAhVBfL5gg&oe=62293B09&_nc_sid=04cb80') profile_pic_url_hd=None is_private=False stories=[]\n",
      "pk='1987489515' username='tehlug' full_name='گروه کاربران لینوکس تهران' profile_pic_url=HttpUrl('https://scontent-vie1-1.cdninstagram.com/v/t51.2885-19/11351520_125919311080552_924411776_a.jpg?_nc_ht=scontent-vie1-1.cdninstagram.com&_nc_cat=104&_nc_ohc=RMt-qsHCnDIAX_cpEjN&edm=ALB854YBAAAA&ccb=7-4&oh=00_AT-rRQZNLnYleSrSr_xRw0Rfxl3vlGlf73tNbAXl-FUH0A&oe=62292855&_nc_sid=04cb80', scheme='https', host='scontent-vie1-1.cdninstagram.com', tld='com', host_type='domain', port='443', path='/v/t51.2885-19/11351520_125919311080552_924411776_a.jpg', query='_nc_ht=scontent-vie1-1.cdninstagram.com&_nc_cat=104&_nc_ohc=RMt-qsHCnDIAX_cpEjN&edm=ALB854YBAAAA&ccb=7-4&oh=00_AT-rRQZNLnYleSrSr_xRw0Rfxl3vlGlf73tNbAXl-FUH0A&oe=62292855&_nc_sid=04cb80') profile_pic_url_hd=None is_private=False stories=[]\n",
      "pk='2027323021' username='ubuntu_ir' full_name='Iranian Ubuntu Team' profile_pic_url=HttpUrl('https://scontent-vie1-1.cdninstagram.com/v/t51.2885-19/11348386_647268042040565_1621023525_a.jpg?_nc_ht=scontent-vie1-1.cdninstagram.com&_nc_cat=105&_nc_ohc=jNT8J_VNS9YAX9HSf0B&edm=ALB854YBAAAA&ccb=7-4&oh=00_AT_zI8lth06Eflpf6gWIViM3vy3ZZ5VEqUiwXbtU3Egm3g&oe=6228C2FD&_nc_sid=04cb80', scheme='https', host='scontent-vie1-1.cdninstagram.com', tld='com', host_type='domain', port='443', path='/v/t51.2885-19/11348386_647268042040565_1621023525_a.jpg', query='_nc_ht=scontent-vie1-1.cdninstagram.com&_nc_cat=105&_nc_ohc=jNT8J_VNS9YAX9HSf0B&edm=ALB854YBAAAA&ccb=7-4&oh=00_AT_zI8lth06Eflpf6gWIViM3vy3ZZ5VEqUiwXbtU3Egm3g&oe=6228C2FD&_nc_sid=04cb80') profile_pic_url_hd=None is_private=False stories=[]\n",
      "pk='7460508970' username='kixcodes' full_name='Kixcodes | PhD student' profile_pic_url=HttpUrl('https://scontent-vie1-1.cdninstagram.com/v/t51.2885-19/151744149_4214585638575127_4490744552033079899_n.jpg?stp=dst-jpg_s150x150&_nc_ht=scontent-vie1-1.cdninstagram.com&_nc_cat=107&_nc_ohc=yjRsDA-rK4oAX_eHwzS&edm=ALB854YBAAAA&ccb=7-4&oh=00_AT-Ct1WRGZ1e3fCox4ee01tCKOmqf61KZGeedbG31SFIig&oe=6229A643&_nc_sid=04cb80', scheme='https', host='scontent-vie1-1.cdninstagram.com', tld='com', host_type='domain', port='443', path='/v/t51.2885-19/151744149_4214585638575127_4490744552033079899_n.jpg', query='stp=dst-jpg_s150x150&_nc_ht=scontent-vie1-1.cdninstagram.com&_nc_cat=107&_nc_ohc=yjRsDA-rK4oAX_eHwzS&edm=ALB854YBAAAA&ccb=7-4&oh=00_AT-Ct1WRGZ1e3fCox4ee01tCKOmqf61KZGeedbG31SFIig&oe=6229A643&_nc_sid=04cb80') profile_pic_url_hd=None is_private=False stories=[]\n",
      "pk='2293933941' username='quera.ir' full_name='Quera | کوئرا' profile_pic_url=HttpUrl('https://scontent-vie1-1.cdninstagram.com/v/t51.2885-19/131201997_412964613082309_4159701222898015405_n.jpg?stp=dst-jpg_s150x150&_nc_ht=scontent-vie1-1.cdninstagram.com&_nc_cat=101&_nc_ohc=Gt9NiE5bLaYAX97U9mb&edm=ALB854YBAAAA&ccb=7-4&oh=00_AT_DYPT9Vx5ScpWdxvTpqzbGrMMFoOMqK7BW3FFu4ekoGw&oe=62281DC2&_nc_sid=04cb80', scheme='https', host='scontent-vie1-1.cdninstagram.com', tld='com', host_type='domain', port='443', path='/v/t51.2885-19/131201997_412964613082309_4159701222898015405_n.jpg', query='stp=dst-jpg_s150x150&_nc_ht=scontent-vie1-1.cdninstagram.com&_nc_cat=101&_nc_ohc=Gt9NiE5bLaYAX97U9mb&edm=ALB854YBAAAA&ccb=7-4&oh=00_AT_DYPT9Vx5ScpWdxvTpqzbGrMMFoOMqK7BW3FFu4ekoGw&oe=62281DC2&_nc_sid=04cb80') profile_pic_url_hd=None is_private=False stories=[]\n",
      "pk='419255782' username='persiansoverheard' full_name='Overheard Persians' profile_pic_url=HttpUrl('https://scontent-vie1-1.cdninstagram.com/v/t51.2885-19/93705357_541867140058154_5691837342382292992_n.jpg?stp=dst-jpg_s150x150&_nc_ht=scontent-vie1-1.cdninstagram.com&_nc_cat=102&_nc_ohc=z1m8XIZBtnEAX-Q3i6_&edm=ALB854YBAAAA&ccb=7-4&oh=00_AT-qldfjnSkZiKkSzhSH8O2eibf_PrpkuCdhE62wwnokOw&oe=62293A95&_nc_sid=04cb80', scheme='https', host='scontent-vie1-1.cdninstagram.com', tld='com', host_type='domain', port='443', path='/v/t51.2885-19/93705357_541867140058154_5691837342382292992_n.jpg', query='stp=dst-jpg_s150x150&_nc_ht=scontent-vie1-1.cdninstagram.com&_nc_cat=102&_nc_ohc=z1m8XIZBtnEAX-Q3i6_&edm=ALB854YBAAAA&ccb=7-4&oh=00_AT-qldfjnSkZiKkSzhSH8O2eibf_PrpkuCdhE62wwnokOw&oe=62293A95&_nc_sid=04cb80') profile_pic_url_hd=None is_private=False stories=[]\n",
      "pk='1763380018' username='firouz_michael_naderi' full_name='Firouz Naderi' profile_pic_url=HttpUrl('https://scontent-vie1-1.cdninstagram.com/v/t51.2885-19/166594668_898009421001177_2027018516386545415_n.jpg?stp=dst-jpg_s150x150&_nc_ht=scontent-vie1-1.cdninstagram.com&_nc_cat=109&_nc_ohc=yr7ZVSEm0mwAX_ywf-t&edm=ALB854YBAAAA&ccb=7-4&oh=00_AT88LxvCv7_pV-tGIod7wHs6EkxPmSArLwr76InKjA0iBw&oe=6228DDED&_nc_sid=04cb80', scheme='https', host='scontent-vie1-1.cdninstagram.com', tld='com', host_type='domain', port='443', path='/v/t51.2885-19/166594668_898009421001177_2027018516386545415_n.jpg', query='stp=dst-jpg_s150x150&_nc_ht=scontent-vie1-1.cdninstagram.com&_nc_cat=109&_nc_ohc=yr7ZVSEm0mwAX_ywf-t&edm=ALB854YBAAAA&ccb=7-4&oh=00_AT88LxvCv7_pV-tGIod7wHs6EkxPmSArLwr76InKjA0iBw&oe=6228DDED&_nc_sid=04cb80') profile_pic_url_hd=None is_private=False stories=[]\n",
      "pk='1162439953' username='linuxiha' full_name='Gnu/Linux🐧' profile_pic_url=HttpUrl('https://scontent-vie1-1.cdninstagram.com/v/t51.2885-19/66840738_2062479470723051_4920564059012595712_n.jpg?stp=dst-jpg_s150x150&_nc_ht=scontent-vie1-1.cdninstagram.com&_nc_cat=111&_nc_ohc=lg6lUQpqawcAX9fIgdB&edm=ALB854YBAAAA&ccb=7-4&oh=00_AT-QaKqMJs-0EJKMcTTfjf_zsN3PmPqMKuikAxH-WbUVIw&oe=62292C62&_nc_sid=04cb80', scheme='https', host='scontent-vie1-1.cdninstagram.com', tld='com', host_type='domain', port='443', path='/v/t51.2885-19/66840738_2062479470723051_4920564059012595712_n.jpg', query='stp=dst-jpg_s150x150&_nc_ht=scontent-vie1-1.cdninstagram.com&_nc_cat=111&_nc_ohc=lg6lUQpqawcAX9fIgdB&edm=ALB854YBAAAA&ccb=7-4&oh=00_AT-QaKqMJs-0EJKMcTTfjf_zsN3PmPqMKuikAxH-WbUVIw&oe=62292C62&_nc_sid=04cb80') profile_pic_url_hd=None is_private=False stories=[]\n",
      "pk='2117117545' username='arta_fitness_' full_name='♾اولین بلاگر ورزشی در ایران♾' profile_pic_url=HttpUrl('https://scontent-vie1-1.cdninstagram.com/v/t51.2885-19/61491892_1068963363494062_6222230902534045696_n.jpg?stp=dst-jpg_s150x150&_nc_ht=scontent-vie1-1.cdninstagram.com&_nc_cat=1&_nc_ohc=UDJhbxhQ9jEAX---ANg&edm=ALB854YBAAAA&ccb=7-4&oh=00_AT_oqO_zqdE5k7GMP9fwabpNHB2dTKdUPpjkad7oHI1HsA&oe=622949F1&_nc_sid=04cb80', scheme='https', host='scontent-vie1-1.cdninstagram.com', tld='com', host_type='domain', port='443', path='/v/t51.2885-19/61491892_1068963363494062_6222230902534045696_n.jpg', query='stp=dst-jpg_s150x150&_nc_ht=scontent-vie1-1.cdninstagram.com&_nc_cat=1&_nc_ohc=UDJhbxhQ9jEAX---ANg&edm=ALB854YBAAAA&ccb=7-4&oh=00_AT_oqO_zqdE5k7GMP9fwabpNHB2dTKdUPpjkad7oHI1HsA&oe=622949F1&_nc_sid=04cb80') profile_pic_url_hd=None is_private=False stories=[]\n",
      "pk='32670524292' username='niloofarworld' full_name=\"niloo's world\" profile_pic_url=HttpUrl('https://scontent-vie1-1.cdninstagram.com/v/t51.2885-19/91495756_532293574333004_4671224040495513600_n.jpg?stp=dst-jpg_s150x150&_nc_ht=scontent-vie1-1.cdninstagram.com&_nc_cat=108&_nc_ohc=8Rem-2hWywkAX-ymyUW&edm=ALB854YBAAAA&ccb=7-4&oh=00_AT_n8jSgq9_KVr-6kXJ4xCIa6Z9DwCYT0Q7VvMd1ZFvBoQ&oe=6228D285&_nc_sid=04cb80', scheme='https', host='scontent-vie1-1.cdninstagram.com', tld='com', host_type='domain', port='443', path='/v/t51.2885-19/91495756_532293574333004_4671224040495513600_n.jpg', query='stp=dst-jpg_s150x150&_nc_ht=scontent-vie1-1.cdninstagram.com&_nc_cat=108&_nc_ohc=8Rem-2hWywkAX-ymyUW&edm=ALB854YBAAAA&ccb=7-4&oh=00_AT_n8jSgq9_KVr-6kXJ4xCIa6Z9DwCYT0Q7VvMd1ZFvBoQ&oe=6228D285&_nc_sid=04cb80') profile_pic_url_hd=None is_private=False stories=[]\n",
      "pk='528817151' username='nasa' full_name='NASA' profile_pic_url=HttpUrl('https://scontent-vie1-1.cdninstagram.com/v/t51.2885-19/29090066_159271188110124_1152068159029641216_n.jpg?stp=dst-jpg_s150x150&_nc_ht=scontent-vie1-1.cdninstagram.com&_nc_cat=1&_nc_ohc=FHxzg50fYBMAX9s4c8R&edm=ALB854YBAAAA&ccb=7-4&oh=00_AT8BvTpedf2QDTbVjuNqhEV0sa7je4Ykh9ZbvBD3Ea6ekw&oe=622896A9&_nc_sid=04cb80', scheme='https', host='scontent-vie1-1.cdninstagram.com', tld='com', host_type='domain', port='443', path='/v/t51.2885-19/29090066_159271188110124_1152068159029641216_n.jpg', query='stp=dst-jpg_s150x150&_nc_ht=scontent-vie1-1.cdninstagram.com&_nc_cat=1&_nc_ohc=FHxzg50fYBMAX9s4c8R&edm=ALB854YBAAAA&ccb=7-4&oh=00_AT8BvTpedf2QDTbVjuNqhEV0sa7je4Ykh9ZbvBD3Ea6ekw&oe=622896A9&_nc_sid=04cb80') profile_pic_url_hd=None is_private=False stories=[]\n",
      "pk='18067109104' username='nobodys.left' full_name='Nobody’s Left' profile_pic_url=HttpUrl('https://scontent-vie1-1.cdninstagram.com/v/t51.2885-19/275190552_2248517025297337_7519478292329491128_n.jpg?stp=dst-jpg_s150x150&_nc_ht=scontent-vie1-1.cdninstagram.com&_nc_cat=101&_nc_ohc=gVSnT2BFXukAX-L8FMD&edm=ALB854YBAAAA&ccb=7-4&oh=00_AT_Nf4yoRBT9_lXzwAP1bWv4UU3kkxaDRnhdg2R9lEeKZg&oe=6229EF41&_nc_sid=04cb80', scheme='https', host='scontent-vie1-1.cdninstagram.com', tld='com', host_type='domain', port='443', path='/v/t51.2885-19/275190552_2248517025297337_7519478292329491128_n.jpg', query='stp=dst-jpg_s150x150&_nc_ht=scontent-vie1-1.cdninstagram.com&_nc_cat=101&_nc_ohc=gVSnT2BFXukAX-L8FMD&edm=ALB854YBAAAA&ccb=7-4&oh=00_AT_Nf4yoRBT9_lXzwAP1bWv4UU3kkxaDRnhdg2R9lEeKZg&oe=6229EF41&_nc_sid=04cb80') profile_pic_url_hd=None is_private=False stories=[]\n"
     ]
    }
   ],
   "source": [
    "for case in list(cl.user_following(amir.userid).values()):\n",
    "    print(case)"
   ]
  },
  {
   "cell_type": "code",
   "execution_count": 67,
   "id": "c3e37874",
   "metadata": {},
   "outputs": [
    {
     "data": {
      "text/plain": [
       "{'alikashfi',\n",
       " 'arash__intelligence',\n",
       " 'arta_fitness_',\n",
       " 'atousa.pourkashiyan',\n",
       " 'azarunivpr',\n",
       " 'codewithrazi',\n",
       " 'coffeellaa',\n",
       " 'eb_home',\n",
       " 'farahmand_alipour',\n",
       " 'firouz_michael_naderi',\n",
       " 'hamed_raeisy_org',\n",
       " 'hooshi72',\n",
       " 'infinity_set',\n",
       " 'jadijadinet',\n",
       " 'khamenei_ir',\n",
       " 'kixcodes',\n",
       " 'komputerka',\n",
       " 'lash.star.gallery',\n",
       " 'linuxiha',\n",
       " 'lpicfarsi',\n",
       " 'marvel_tradee',\n",
       " 'mehrankhosravani',\n",
       " 'mr.developer',\n",
       " 'nabegheha.tv',\n",
       " 'nasa',\n",
       " 'niloofarworld',\n",
       " 'nobodys.left',\n",
       " 'noushinloghmani.nlk',\n",
       " 'opencontent.ir',\n",
       " 'persiansoverheard',\n",
       " 'psychology_.plus',\n",
       " 'quera.ir',\n",
       " 'raisi_org',\n",
       " 's.m.p_managing',\n",
       " 'scholarship_niloofar',\n",
       " 'seyedhamidrezahashemi',\n",
       " 'shahab.ghasemii',\n",
       " 'shirin',\n",
       " 'shit.ism',\n",
       " 'tehlug',\n",
       " 'ubuntu_ir',\n",
       " 'viramon_smartening',\n",
       " 'vvahideh.molavi',\n",
       " 'zharfa_hm',\n",
       " 'zohre.barzegaaar'}"
      ]
     },
     "execution_count": 67,
     "metadata": {},
     "output_type": "execute_result"
    }
   ],
   "source": [
    "listx"
   ]
  },
  {
   "cell_type": "code",
   "execution_count": 36,
   "id": "6ec6c551",
   "metadata": {},
   "outputs": [],
   "source": [
    "users = set()\n",
    "with open(\"users.txt\", \"r\") as f:\n",
    "    content = f.readlines()\n",
    "for line in content:\n",
    "    users.add(line.strip())"
   ]
  },
  {
   "cell_type": "code",
   "execution_count": 38,
   "id": "a7b6b972",
   "metadata": {},
   "outputs": [],
   "source": [
    "with open(\"followed_from_arash.txt\", \"w\") as f:\n",
    "    for line in (listx & users):\n",
    "        f.writelines(line + \"\\n\")"
   ]
  },
  {
   "cell_type": "code",
   "execution_count": 43,
   "id": "5a205067",
   "metadata": {},
   "outputs": [],
   "source": [
    "for i in range(len(listx)):\n",
    "    listx[i] = cl.user_id_from_username(listx[i])"
   ]
  },
  {
   "cell_type": "code",
   "execution_count": 45,
   "id": "7db9ed14",
   "metadata": {},
   "outputs": [],
   "source": [
    "for user in listx:\n",
    "    cl.user_follow(user)"
   ]
  }
 ],
 "metadata": {
  "kernelspec": {
   "display_name": "Python 3 (ipykernel)",
   "language": "python",
   "name": "python3"
  },
  "language_info": {
   "codemirror_mode": {
    "name": "ipython",
    "version": 3
   },
   "file_extension": ".py",
   "mimetype": "text/x-python",
   "name": "python",
   "nbconvert_exporter": "python",
   "pygments_lexer": "ipython3",
   "version": "3.9.8"
  }
 },
 "nbformat": 4,
 "nbformat_minor": 5
}
