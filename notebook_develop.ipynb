{
 "cells": [
  {
   "cell_type": "code",
   "execution_count": 2,
   "id": "5d9e6f47",
   "metadata": {},
   "outputs": [],
   "source": [
    "# Author: AmirHossein Alyian\n",
    "# Date: 2022/3/2"
   ]
  },
  {
   "cell_type": "code",
   "execution_count": 3,
   "id": "b9024e80",
   "metadata": {},
   "outputs": [],
   "source": [
    "from instagrapi import Client"
   ]
  },
  {
   "cell_type": "code",
   "execution_count": 4,
   "id": "87dd75b0",
   "metadata": {},
   "outputs": [],
   "source": [
    "cl = Client()"
   ]
  },
  {
   "cell_type": "code",
   "execution_count": 32,
   "id": "9552196a",
   "metadata": {},
   "outputs": [],
   "source": [
    "USER = \"amirh4lyian\"\n",
    "PASS = \"CiV8kvub3Z\"\n",
    "PASS = \"CIV8kvub3z\""
   ]
  },
  {
   "cell_type": "code",
   "execution_count": 33,
   "id": "53f4f28f",
   "metadata": {},
   "outputs": [
    {
     "data": {
      "text/plain": [
       "True"
      ]
     },
     "execution_count": 33,
     "metadata": {},
     "output_type": "execute_result"
    }
   ],
   "source": [
    "cl.login(USER, PASS)"
   ]
  },
  {
   "cell_type": "code",
   "execution_count": 7,
   "id": "4e5d97cc",
   "metadata": {},
   "outputs": [],
   "source": [
    "def parsing_users(data):\n",
    "    users = set()\n",
    "    for i in range(len(data)):\n",
    "        key = str(data[i])\n",
    "        a = key.find(\"' username='\") + len(\"', username='\") -1\n",
    "        b = key.find(\"' full_name=\")\n",
    "        users.add(key[a:b])\n",
    "    return users\n",
    "\n",
    "class User:\n",
    "    \n",
    "    def __init__(self, username):\n",
    "        self.username = username\n",
    "        self.userid = cl.user_id_from_username(username)\n",
    "    \n",
    "    def info(self):\n",
    "        return cl.user_info(self.userid)\n",
    "    \n",
    "    def get_followers(self):\n",
    "        '''this function will find user followers'''\n",
    "        data = cl.user_following(self.userid)\n",
    "        data = list(data.values())\n",
    "        return parsing_users(data)\n",
    "    \n",
    "    def get_following(self):\n",
    "        '''this function will find user following'''\n",
    "        data = cl.user_following(self.userid)\n",
    "        data = list(data.values())\n",
    "        return parsing_users(data)"
   ]
  },
  {
   "cell_type": "code",
   "execution_count": 8,
   "id": "5f5c5708",
   "metadata": {},
   "outputs": [],
   "source": [
    "arash = User(\"arash__intelligence\")\n",
    "tarsa = User(\"amirtarsa_\")\n",
    "nabegheha = User(\"nabegheha.tv\")\n",
    "jadi = User(\"jadijadinet\")\n",
    "mehran = User(\"mehrankhosravani\")\n",
    "daghayeghi = User(\"alidaghayeghi1378\")"
   ]
  },
  {
   "cell_type": "code",
   "execution_count": 34,
   "id": "20abeab2",
   "metadata": {},
   "outputs": [],
   "source": [
    "arya = User(USER)"
   ]
  },
  {
   "cell_type": "code",
   "execution_count": 35,
   "id": "c88a0aac",
   "metadata": {},
   "outputs": [],
   "source": [
    "listx = arya.get_following()"
   ]
  },
  {
   "cell_type": "code",
   "execution_count": 36,
   "id": "6ec6c551",
   "metadata": {},
   "outputs": [],
   "source": [
    "users = set()\n",
    "with open(\"users.txt\", \"r\") as f:\n",
    "    content = f.readlines()\n",
    "for line in content:\n",
    "    users.add(line.strip())"
   ]
  },
  {
   "cell_type": "code",
   "execution_count": 37,
   "id": "b4ad0a1c",
   "metadata": {},
   "outputs": [
    {
     "data": {
      "text/plain": [
       "{'alikashfi',\n",
       " 'atousa.pourkashiyan',\n",
       " 'eb_home',\n",
       " 'firouz_michael_naderi',\n",
       " 'hamed_raeisy_org',\n",
       " 'hooshi72',\n",
       " 'kixcodes',\n",
       " 'marvel_tradee',\n",
       " 'mr.developer',\n",
       " 'nasa',\n",
       " 'niloofarworld',\n",
       " 'noushinloghmani.nlk',\n",
       " 'psychology_.plus',\n",
       " 's.m.p_managing',\n",
       " 'scholarship_niloofar',\n",
       " 'seyedhamidrezahashemi',\n",
       " 'shahab.ghasemii',\n",
       " 'shirin',\n",
       " 'zharfa_hm',\n",
       " 'zohre.barzegaaar'}"
      ]
     },
     "execution_count": 37,
     "metadata": {},
     "output_type": "execute_result"
    }
   ],
   "source": [
    "with open(\"follow\")\n",
    "listx & users"
   ]
  },
  {
   "cell_type": "code",
   "execution_count": 43,
   "id": "5a205067",
   "metadata": {},
   "outputs": [],
   "source": [
    "for i in range(len(listx)):\n",
    "    listx[i] = cl.user_id_from_username(listx[i])"
   ]
  },
  {
   "cell_type": "code",
   "execution_count": 45,
   "id": "7db9ed14",
   "metadata": {},
   "outputs": [],
   "source": [
    "for user in listx:\n",
    "    cl.user_follow(user)"
   ]
  }
 ],
 "metadata": {
  "kernelspec": {
   "display_name": "Python 3 (ipykernel)",
   "language": "python",
   "name": "python3"
  },
  "language_info": {
   "codemirror_mode": {
    "name": "ipython",
    "version": 3
   },
   "file_extension": ".py",
   "mimetype": "text/x-python",
   "name": "python",
   "nbconvert_exporter": "python",
   "pygments_lexer": "ipython3",
   "version": "3.9.8"
  }
 },
 "nbformat": 4,
 "nbformat_minor": 5
}
