{
 "cells": [
  {
   "cell_type": "code",
   "execution_count": 1,
   "id": "5d9e6f47",
   "metadata": {},
   "outputs": [],
   "source": [
    "# Author: AmirHossein Alyian\n",
    "# Date: 2022/3/2"
   ]
  },
  {
   "cell_type": "code",
   "execution_count": 1,
   "id": "b9024e80",
   "metadata": {},
   "outputs": [],
   "source": [
    "from instagrapi import Client"
   ]
  },
  {
   "cell_type": "code",
   "execution_count": 2,
   "id": "87dd75b0",
   "metadata": {},
   "outputs": [],
   "source": [
    "cl = Client()"
   ]
  },
  {
   "cell_type": "code",
   "execution_count": 3,
   "id": "9552196a",
   "metadata": {},
   "outputs": [],
   "source": [
    "USER = \"amirh4lyian\"\n",
    "USER = \"aryaramnes20\"\n",
    "PASS = \"CIV8kvub3z\"\n",
    "PASS = \"CiV8kvub3Z\""
   ]
  },
  {
   "cell_type": "code",
   "execution_count": 4,
   "id": "53f4f28f",
   "metadata": {},
   "outputs": [
    {
     "data": {
      "text/plain": [
       "True"
      ]
     },
     "execution_count": 4,
     "metadata": {},
     "output_type": "execute_result"
    }
   ],
   "source": [
    "cl.login(USER, PASS)"
   ]
  },
  {
   "cell_type": "code",
   "execution_count": 87,
   "id": "f6ae8dbf",
   "metadata": {},
   "outputs": [],
   "source": [
    "KEYS = [\n",
    "    \"username\", \"full_name\", \"is_private\", \"profile_pic_url\", \"is_verified\", \"media_count\",\n",
    "    \"follower_count\", \"following_count\", \"biography\", \"external_url\", \"is_business\", \"public_email\",\n",
    "    \"contact_phone_number\", \"business_contact_method\", \"business_category_name\", \"category_name\"\n",
    "]\n",
    "\n",
    "def parse_bio(text):\n",
    "    key = \"biography\"\n",
    "    # avoid from error of \"out of range\"\n",
    "    text = text+\" \"\n",
    "    value = \"-1\"\n",
    "    if key in text:\n",
    "        index = KEYS.index(key)\n",
    "        a = text.find(f\" {KEYS[index]}=\") + len(f\" {KEYS[index]}=\")\n",
    "        b = len(text[:a]) + text[a:].find(\"' \")\n",
    "        value = text[a:b].strip(\"'\")\n",
    "    return value\n",
    "\n",
    "def parse_string_by_space(text, key):\n",
    "    # avoid from error of \"out of range\"\n",
    "    text = text+\" \"\n",
    "    value = \"-1\"\n",
    "    if key in text:\n",
    "        index = KEYS.index(key)\n",
    "        a = text.find(f\" {KEYS[index]}=\") + len(f\" {KEYS[index]}=\")\n",
    "        b = len(text[:a]) + text[a:].find(\" \")\n",
    "        value = text[a:b].strip(\"'\")\n",
    "    return value"
   ]
  },
  {
   "cell_type": "code",
   "execution_count": 122,
   "id": "4e5d97cc",
   "metadata": {},
   "outputs": [],
   "source": [
    "class User:\n",
    "    \n",
    "    def __init__(self, username):\n",
    "        self.username = username\n",
    "        self.userid = cl.user_id_from_username(username)\n",
    "        \n",
    "    def following_count(self):\n",
    "        '''this function will find following count of user'''\n",
    "        fic = parse_string(str(cl.user_info(self.userid)), \"following_count\")\n",
    "        return int(fic)\n",
    "    \n",
    "    def followers_count(self):\n",
    "        '''this function will find follower count of user'''\n",
    "        fec = \n",
    "        return int(parse_string(str(cl.user_info(self.userid)), \"follower_count\"))\n",
    "        \n",
    "    def bio(self):\n",
    "        return parse_bio(str(cl.user_info(self.userid)))\n",
    "    \n",
    "    def get_followers(self, public=True, private=True):\n",
    "        '''this function will find user followers'''\n",
    "        users = set()\n",
    "        data = list(cl.user_followers(self.userid).values())\n",
    "        for case in data:\n",
    "            if public and parse_string(str(case), \"is_private\") == \"False\":\n",
    "                user = parse_string(str(case), \"username\")\n",
    "                users.add(user)\n",
    "            elif private and parse_string(str(case), \"is_private\") == \"True\":\n",
    "                user = parse_string(str(case), \"username\")\n",
    "                users.add(user)\n",
    "        return users\n",
    "    \n",
    "    def get_following(self, public=True, private=True):\n",
    "        '''this function will find user following'''\n",
    "        users = set()\n",
    "        data = list(cl.user_following(self.userid).values())\n",
    "        for case in data:\n",
    "            if public and parse_string(str(case), \"is_private\") == \"False\":\n",
    "                user = parse_string(str(case), \"username\")\n",
    "                users.add(user)\n",
    "            elif private and parse_string(str(case), \"is_private\") == \"True\":\n",
    "                user = parse_string(str(case), \"username\")\n",
    "                users.add(user)\n",
    "        return users\n",
    "    \n",
    "    def is_followers(self, username):\n",
    "        if username in self.get_followers():\n",
    "            return 0\n",
    "        else:\n",
    "            return -1\n",
    "    \n",
    "    def is_following(self, username):\n",
    "        if username in self.get_following():\n",
    "            return 0\n",
    "        else:\n",
    "            return -1\n",
    "    \n",
    "    def search_followers(self, KEY):\n",
    "        pass\n",
    "    \n",
    "    def search_following(self, KEY):\n",
    "        pass"
   ]
  },
  {
   "cell_type": "code",
   "execution_count": 124,
   "id": "5f5c5708",
   "metadata": {},
   "outputs": [
    {
     "data": {
      "text/plain": [
       "'\\nme = User(\"aryaramnes20\")\\nnabegheha = User(\"nabegheha.tv\")\\njadi = User(\"jadijadinet\")\\nmehran = User(\"mehrankhosravani\")\\ndaghayeghi = User(\"alidaghayeghi1378\")\\n'"
      ]
     },
     "execution_count": 124,
     "metadata": {},
     "output_type": "execute_result"
    }
   ],
   "source": [
    "ids = [\"aryaramnes20\", \"nabegheha.tv\", \"jadijadinet\", \"mehrankhosravani\", \"alidaghayeghi1378\"]\n",
    "acco = set()\n",
    "for user in ids:\n",
    "    acco.add(User(user))\n",
    "'''\n",
    "me = User(\"aryaramnes20\")\n",
    "nabegheha = User(\"nabegheha.tv\")\n",
    "jadi = User(\"jadijadinet\")\n",
    "mehran = User(\"mehrankhosravani\")\n",
    "daghayeghi = User(\"alidaghayeghi1378\")\n",
    "'''"
   ]
  },
  {
   "cell_type": "code",
   "execution_count": null,
   "id": "bf65c648",
   "metadata": {
    "scrolled": true
   },
   "outputs": [],
   "source": [
    "vira = User(\"viramon_smartening\")\n",
    "vira.get_followers(public=False)"
   ]
  },
  {
   "cell_type": "code",
   "execution_count": 52,
   "id": "e8a3bdd7",
   "metadata": {},
   "outputs": [],
   "source": [
    "data = me.get_following(public=False)"
   ]
  },
  {
   "cell_type": "code",
   "execution_count": 151,
   "id": "d4a3d4f5",
   "metadata": {},
   "outputs": [
    {
     "name": "stderr",
     "output_type": "stream",
     "text": [
      "Status 404: Endpoint /v1/users/aryaramnes2033/usernameinfo/ does not exists\n"
     ]
    },
    {
     "ename": "UserNotFound",
     "evalue": "User not found",
     "output_type": "error",
     "traceback": [
      "\u001b[1;31m---------------------------------------------------------------------------\u001b[0m",
      "\u001b[1;31mHTTPError\u001b[0m                                 Traceback (most recent call last)",
      "File \u001b[1;32m~\\AppData\\Local\\Programs\\Python\\Python39\\lib\\site-packages\\instagrapi\\mixins\\public.py:128\u001b[0m, in \u001b[0;36mPublicRequestMixin._send_public_request\u001b[1;34m(self, url, data, params, headers, return_json)\u001b[0m\n\u001b[0;32m    127\u001b[0m \u001b[38;5;28mself\u001b[39m\u001b[38;5;241m.\u001b[39mlast_public_response \u001b[38;5;241m=\u001b[39m response\n\u001b[1;32m--> 128\u001b[0m \u001b[43mresponse\u001b[49m\u001b[38;5;241;43m.\u001b[39;49m\u001b[43mraise_for_status\u001b[49m\u001b[43m(\u001b[49m\u001b[43m)\u001b[49m\n\u001b[0;32m    129\u001b[0m \u001b[38;5;28;01mif\u001b[39;00m return_json:\n",
      "File \u001b[1;32m~\\AppData\\Local\\Programs\\Python\\Python39\\lib\\site-packages\\requests\\models.py:960\u001b[0m, in \u001b[0;36mResponse.raise_for_status\u001b[1;34m(self)\u001b[0m\n\u001b[0;32m    959\u001b[0m \u001b[38;5;28;01mif\u001b[39;00m http_error_msg:\n\u001b[1;32m--> 960\u001b[0m     \u001b[38;5;28;01mraise\u001b[39;00m HTTPError(http_error_msg, response\u001b[38;5;241m=\u001b[39m\u001b[38;5;28mself\u001b[39m)\n",
      "\u001b[1;31mHTTPError\u001b[0m: 404 Client Error: Not Found for url: https://www.instagram.com/aryaramnes2033/?__a=1",
      "\nDuring handling of the above exception, another exception occurred:\n",
      "\u001b[1;31mClientNotFoundError\u001b[0m                       Traceback (most recent call last)",
      "File \u001b[1;32m~\\AppData\\Local\\Programs\\Python\\Python39\\lib\\site-packages\\instagrapi\\mixins\\user.py:189\u001b[0m, in \u001b[0;36mUserMixin.user_info_by_username\u001b[1;34m(self, username, use_cache)\u001b[0m\n\u001b[0;32m    188\u001b[0m \u001b[38;5;28;01mtry\u001b[39;00m:\n\u001b[1;32m--> 189\u001b[0m     user \u001b[38;5;241m=\u001b[39m \u001b[38;5;28;43mself\u001b[39;49m\u001b[38;5;241;43m.\u001b[39;49m\u001b[43muser_info_by_username_gql\u001b[49m\u001b[43m(\u001b[49m\u001b[43musername\u001b[49m\u001b[43m)\u001b[49m\n\u001b[0;32m    190\u001b[0m \u001b[38;5;28;01mexcept\u001b[39;00m ClientLoginRequired \u001b[38;5;28;01mas\u001b[39;00m e:\n",
      "File \u001b[1;32m~\\AppData\\Local\\Programs\\Python\\Python39\\lib\\site-packages\\instagrapi\\mixins\\user.py:142\u001b[0m, in \u001b[0;36mUserMixin.user_info_by_username_gql\u001b[1;34m(self, username)\u001b[0m\n\u001b[0;32m    141\u001b[0m username \u001b[38;5;241m=\u001b[39m \u001b[38;5;28mstr\u001b[39m(username)\u001b[38;5;241m.\u001b[39mlower()\n\u001b[1;32m--> 142\u001b[0m \u001b[38;5;28;01mreturn\u001b[39;00m extract_user_gql(\u001b[38;5;28;43mself\u001b[39;49m\u001b[38;5;241;43m.\u001b[39;49m\u001b[43mpublic_a1_request\u001b[49m\u001b[43m(\u001b[49m\u001b[38;5;124;43mf\u001b[39;49m\u001b[38;5;124;43m\"\u001b[39;49m\u001b[38;5;124;43m/\u001b[39;49m\u001b[38;5;132;43;01m{\u001b[39;49;00m\u001b[43musername\u001b[49m\u001b[38;5;132;43;01m!s}\u001b[39;49;00m\u001b[38;5;124;43m/\u001b[39;49m\u001b[38;5;124;43m\"\u001b[39;49m\u001b[43m)\u001b[49m[\u001b[38;5;124m\"\u001b[39m\u001b[38;5;124muser\u001b[39m\u001b[38;5;124m\"\u001b[39m])\n",
      "File \u001b[1;32m~\\AppData\\Local\\Programs\\Python\\Python39\\lib\\site-packages\\instagrapi\\mixins\\public.py:173\u001b[0m, in \u001b[0;36mPublicRequestMixin.public_a1_request\u001b[1;34m(self, endpoint, data, params, headers)\u001b[0m\n\u001b[0;32m    171\u001b[0m     params \u001b[38;5;241m=\u001b[39m {\u001b[38;5;124m\"\u001b[39m\u001b[38;5;124m__a\u001b[39m\u001b[38;5;124m\"\u001b[39m: \u001b[38;5;241m1\u001b[39m}\n\u001b[1;32m--> 173\u001b[0m response \u001b[38;5;241m=\u001b[39m \u001b[38;5;28;43mself\u001b[39;49m\u001b[38;5;241;43m.\u001b[39;49m\u001b[43mpublic_request\u001b[49m\u001b[43m(\u001b[49m\n\u001b[0;32m    174\u001b[0m \u001b[43m    \u001b[49m\u001b[43murl\u001b[49m\u001b[43m,\u001b[49m\u001b[43m \u001b[49m\u001b[43mdata\u001b[49m\u001b[38;5;241;43m=\u001b[39;49m\u001b[43mdata\u001b[49m\u001b[43m,\u001b[49m\u001b[43m \u001b[49m\u001b[43mparams\u001b[49m\u001b[38;5;241;43m=\u001b[39;49m\u001b[43mparams\u001b[49m\u001b[43m,\u001b[49m\u001b[43m \u001b[49m\u001b[43mheaders\u001b[49m\u001b[38;5;241;43m=\u001b[39;49m\u001b[43mheaders\u001b[49m\u001b[43m,\u001b[49m\u001b[43m \u001b[49m\u001b[43mreturn_json\u001b[49m\u001b[38;5;241;43m=\u001b[39;49m\u001b[38;5;28;43;01mTrue\u001b[39;49;00m\n\u001b[0;32m    175\u001b[0m \u001b[43m\u001b[49m\u001b[43m)\u001b[49m\n\u001b[0;32m    176\u001b[0m \u001b[38;5;28;01mtry\u001b[39;00m:\n",
      "File \u001b[1;32m~\\AppData\\Local\\Programs\\Python\\Python39\\lib\\site-packages\\instagrapi\\mixins\\public.py:74\u001b[0m, in \u001b[0;36mPublicRequestMixin.public_request\u001b[1;34m(self, url, data, params, headers, return_json, retries_count, retries_timeout)\u001b[0m\n\u001b[0;32m     73\u001b[0m \u001b[38;5;28;01mexcept\u001b[39;00m (ClientLoginRequired, ClientNotFoundError, ClientBadRequestError) \u001b[38;5;28;01mas\u001b[39;00m e:\n\u001b[1;32m---> 74\u001b[0m     \u001b[38;5;28;01mraise\u001b[39;00m e  \u001b[38;5;66;03m# Stop retries\u001b[39;00m\n\u001b[0;32m     75\u001b[0m \u001b[38;5;66;03m# except JSONDecodeError as e:\u001b[39;00m\n\u001b[0;32m     76\u001b[0m \u001b[38;5;66;03m#     raise ClientJSONDecodeError(e, respones=self.last_public_response)\u001b[39;00m\n",
      "File \u001b[1;32m~\\AppData\\Local\\Programs\\Python\\Python39\\lib\\site-packages\\instagrapi\\mixins\\public.py:72\u001b[0m, in \u001b[0;36mPublicRequestMixin.public_request\u001b[1;34m(self, url, data, params, headers, return_json, retries_count, retries_timeout)\u001b[0m\n\u001b[0;32m     71\u001b[0m \u001b[38;5;28;01mtry\u001b[39;00m:\n\u001b[1;32m---> 72\u001b[0m     \u001b[38;5;28;01mreturn\u001b[39;00m \u001b[38;5;28mself\u001b[39m\u001b[38;5;241m.\u001b[39m_send_public_request(url, \u001b[38;5;241m*\u001b[39m\u001b[38;5;241m*\u001b[39mkwargs)\n\u001b[0;32m     73\u001b[0m \u001b[38;5;28;01mexcept\u001b[39;00m (ClientLoginRequired, ClientNotFoundError, ClientBadRequestError) \u001b[38;5;28;01mas\u001b[39;00m e:\n",
      "File \u001b[1;32m~\\AppData\\Local\\Programs\\Python\\Python39\\lib\\site-packages\\instagrapi\\mixins\\public.py:159\u001b[0m, in \u001b[0;36mPublicRequestMixin._send_public_request\u001b[1;34m(self, url, data, params, headers, return_json)\u001b[0m\n\u001b[0;32m    158\u001b[0m \u001b[38;5;28;01mif\u001b[39;00m e\u001b[38;5;241m.\u001b[39mresponse\u001b[38;5;241m.\u001b[39mstatus_code \u001b[38;5;241m==\u001b[39m \u001b[38;5;241m404\u001b[39m:\n\u001b[1;32m--> 159\u001b[0m     \u001b[38;5;28;01mraise\u001b[39;00m ClientNotFoundError(e, response\u001b[38;5;241m=\u001b[39me\u001b[38;5;241m.\u001b[39mresponse)\n\u001b[0;32m    161\u001b[0m \u001b[38;5;28;01mraise\u001b[39;00m ClientError(e, response\u001b[38;5;241m=\u001b[39me\u001b[38;5;241m.\u001b[39mresponse)\n",
      "\u001b[1;31mClientNotFoundError\u001b[0m: 404 Client Error: Not Found for url: https://www.instagram.com/aryaramnes2033/?__a=1",
      "\nDuring handling of the above exception, another exception occurred:\n",
      "\u001b[1;31mHTTPError\u001b[0m                                 Traceback (most recent call last)",
      "File \u001b[1;32m~\\AppData\\Local\\Programs\\Python\\Python39\\lib\\site-packages\\instagrapi\\mixins\\private.py:298\u001b[0m, in \u001b[0;36mPrivateRequestMixin._send_private_request\u001b[1;34m(self, endpoint, data, params, login, with_signature, headers, extra_sig)\u001b[0m\n\u001b[0;32m    297\u001b[0m \u001b[38;5;28mself\u001b[39m\u001b[38;5;241m.\u001b[39mlast_response \u001b[38;5;241m=\u001b[39m response\n\u001b[1;32m--> 298\u001b[0m \u001b[43mresponse\u001b[49m\u001b[38;5;241;43m.\u001b[39;49m\u001b[43mraise_for_status\u001b[49m\u001b[43m(\u001b[49m\u001b[43m)\u001b[49m\n\u001b[0;32m    299\u001b[0m \u001b[38;5;66;03m# last_json - for Sentry context in traceback\u001b[39;00m\n",
      "File \u001b[1;32m~\\AppData\\Local\\Programs\\Python\\Python39\\lib\\site-packages\\requests\\models.py:960\u001b[0m, in \u001b[0;36mResponse.raise_for_status\u001b[1;34m(self)\u001b[0m\n\u001b[0;32m    959\u001b[0m \u001b[38;5;28;01mif\u001b[39;00m http_error_msg:\n\u001b[1;32m--> 960\u001b[0m     \u001b[38;5;28;01mraise\u001b[39;00m HTTPError(http_error_msg, response\u001b[38;5;241m=\u001b[39m\u001b[38;5;28mself\u001b[39m)\n",
      "\u001b[1;31mHTTPError\u001b[0m: 404 Client Error: Not Found for url: https://i.instagram.com/api/v1/users/aryaramnes2033/usernameinfo/",
      "\nDuring handling of the above exception, another exception occurred:\n",
      "\u001b[1;31mClientNotFoundError\u001b[0m                       Traceback (most recent call last)",
      "File \u001b[1;32m~\\AppData\\Local\\Programs\\Python\\Python39\\lib\\site-packages\\instagrapi\\mixins\\user.py:160\u001b[0m, in \u001b[0;36mUserMixin.user_info_by_username_v1\u001b[1;34m(self, username)\u001b[0m\n\u001b[0;32m    159\u001b[0m \u001b[38;5;28;01mtry\u001b[39;00m:\n\u001b[1;32m--> 160\u001b[0m     result \u001b[38;5;241m=\u001b[39m \u001b[38;5;28;43mself\u001b[39;49m\u001b[38;5;241;43m.\u001b[39;49m\u001b[43mprivate_request\u001b[49m\u001b[43m(\u001b[49m\u001b[38;5;124;43mf\u001b[39;49m\u001b[38;5;124;43m\"\u001b[39;49m\u001b[38;5;124;43musers/\u001b[39;49m\u001b[38;5;132;43;01m{\u001b[39;49;00m\u001b[43musername\u001b[49m\u001b[38;5;132;43;01m}\u001b[39;49;00m\u001b[38;5;124;43m/usernameinfo/\u001b[39;49m\u001b[38;5;124;43m\"\u001b[39;49m\u001b[43m)\u001b[49m\n\u001b[0;32m    161\u001b[0m \u001b[38;5;28;01mexcept\u001b[39;00m ClientNotFoundError \u001b[38;5;28;01mas\u001b[39;00m e:\n",
      "File \u001b[1;32m~\\AppData\\Local\\Programs\\Python\\Python39\\lib\\site-packages\\instagrapi\\mixins\\private.py:445\u001b[0m, in \u001b[0;36mPrivateRequestMixin.private_request\u001b[1;34m(self, endpoint, data, params, login, with_signature, headers, extra_sig)\u001b[0m\n\u001b[0;32m    444\u001b[0m \u001b[38;5;28;01melse\u001b[39;00m:\n\u001b[1;32m--> 445\u001b[0m     \u001b[38;5;28;01mraise\u001b[39;00m e\n\u001b[0;32m    446\u001b[0m \u001b[38;5;28;01mif\u001b[39;00m login \u001b[38;5;129;01mand\u001b[39;00m \u001b[38;5;28mself\u001b[39m\u001b[38;5;241m.\u001b[39muser_id:\n\u001b[0;32m    447\u001b[0m     \u001b[38;5;66;03m# After challenge resolve return last_json\u001b[39;00m\n",
      "File \u001b[1;32m~\\AppData\\Local\\Programs\\Python\\Python39\\lib\\site-packages\\instagrapi\\mixins\\private.py:432\u001b[0m, in \u001b[0;36mPrivateRequestMixin.private_request\u001b[1;34m(self, endpoint, data, params, login, with_signature, headers, extra_sig)\u001b[0m\n\u001b[0;32m    431\u001b[0m     \u001b[38;5;28mself\u001b[39m\u001b[38;5;241m.\u001b[39mprivate_requests_count \u001b[38;5;241m+\u001b[39m\u001b[38;5;241m=\u001b[39m \u001b[38;5;241m1\u001b[39m\n\u001b[1;32m--> 432\u001b[0m     \u001b[38;5;28mself\u001b[39m\u001b[38;5;241m.\u001b[39m_send_private_request(endpoint, \u001b[38;5;241m*\u001b[39m\u001b[38;5;241m*\u001b[39mkwargs)\n\u001b[0;32m    433\u001b[0m \u001b[38;5;28;01mexcept\u001b[39;00m ClientRequestTimeout:\n",
      "File \u001b[1;32m~\\AppData\\Local\\Programs\\Python\\Python39\\lib\\site-packages\\instagrapi\\mixins\\private.py:370\u001b[0m, in \u001b[0;36mPrivateRequestMixin._send_private_request\u001b[1;34m(self, endpoint, data, params, login, with_signature, headers, extra_sig)\u001b[0m\n\u001b[0;32m    368\u001b[0m     \u001b[38;5;28mself\u001b[39m\u001b[38;5;241m.\u001b[39mlogger\u001b[38;5;241m.\u001b[39mwarning(\n\u001b[0;32m    369\u001b[0m         \u001b[38;5;124m\"\u001b[39m\u001b[38;5;124mStatus 404: Endpoint \u001b[39m\u001b[38;5;132;01m%s\u001b[39;00m\u001b[38;5;124m does not exists\u001b[39m\u001b[38;5;124m\"\u001b[39m, endpoint)\n\u001b[1;32m--> 370\u001b[0m     \u001b[38;5;28;01mraise\u001b[39;00m ClientNotFoundError(e, response\u001b[38;5;241m=\u001b[39me\u001b[38;5;241m.\u001b[39mresponse, \u001b[38;5;241m*\u001b[39m\u001b[38;5;241m*\u001b[39mlast_json)\n\u001b[0;32m    371\u001b[0m \u001b[38;5;28;01melif\u001b[39;00m e\u001b[38;5;241m.\u001b[39mresponse\u001b[38;5;241m.\u001b[39mstatus_code \u001b[38;5;241m==\u001b[39m \u001b[38;5;241m408\u001b[39m:\n",
      "\u001b[1;31mClientNotFoundError\u001b[0m: User not found",
      "\nDuring handling of the above exception, another exception occurred:\n",
      "\u001b[1;31mUserNotFound\u001b[0m                              Traceback (most recent call last)",
      "Input \u001b[1;32mIn [151]\u001b[0m, in \u001b[0;36m<module>\u001b[1;34m\u001b[0m\n\u001b[1;32m----> 1\u001b[0m me \u001b[38;5;241m=\u001b[39m \u001b[43mUser\u001b[49m\u001b[43m(\u001b[49m\u001b[38;5;124;43m\"\u001b[39;49m\u001b[38;5;124;43maryaramnes2033\u001b[39;49m\u001b[38;5;124;43m\"\u001b[39;49m\u001b[43m)\u001b[49m\n\u001b[0;32m      2\u001b[0m \u001b[38;5;28mprint\u001b[39m(me\u001b[38;5;241m.\u001b[39muserid)\n",
      "Input \u001b[1;32mIn [122]\u001b[0m, in \u001b[0;36mUser.__init__\u001b[1;34m(self, username)\u001b[0m\n\u001b[0;32m      3\u001b[0m \u001b[38;5;28;01mdef\u001b[39;00m \u001b[38;5;21m__init__\u001b[39m(\u001b[38;5;28mself\u001b[39m, username):\n\u001b[0;32m      4\u001b[0m     \u001b[38;5;28mself\u001b[39m\u001b[38;5;241m.\u001b[39musername \u001b[38;5;241m=\u001b[39m username\n\u001b[1;32m----> 5\u001b[0m     \u001b[38;5;28mself\u001b[39m\u001b[38;5;241m.\u001b[39muserid \u001b[38;5;241m=\u001b[39m \u001b[43mcl\u001b[49m\u001b[38;5;241;43m.\u001b[39;49m\u001b[43muser_id_from_username\u001b[49m\u001b[43m(\u001b[49m\u001b[43musername\u001b[49m\u001b[43m)\u001b[49m\n",
      "File \u001b[1;32m~\\AppData\\Local\\Programs\\Python\\Python39\\lib\\site-packages\\instagrapi\\mixins\\user.py:47\u001b[0m, in \u001b[0;36mUserMixin.user_id_from_username\u001b[1;34m(self, username)\u001b[0m\n\u001b[0;32m     29\u001b[0m \u001b[38;5;124;03m\"\"\"\u001b[39;00m\n\u001b[0;32m     30\u001b[0m \u001b[38;5;124;03mGet full media id\u001b[39;00m\n\u001b[0;32m     31\u001b[0m \n\u001b[1;32m   (...)\u001b[0m\n\u001b[0;32m     44\u001b[0m \u001b[38;5;124;03m'adw0rd' -> 1903424587\u001b[39;00m\n\u001b[0;32m     45\u001b[0m \u001b[38;5;124;03m\"\"\"\u001b[39;00m\n\u001b[0;32m     46\u001b[0m username \u001b[38;5;241m=\u001b[39m \u001b[38;5;28mstr\u001b[39m(username)\u001b[38;5;241m.\u001b[39mlower()\n\u001b[1;32m---> 47\u001b[0m \u001b[38;5;28;01mreturn\u001b[39;00m \u001b[38;5;28mstr\u001b[39m(\u001b[38;5;28;43mself\u001b[39;49m\u001b[38;5;241;43m.\u001b[39;49m\u001b[43muser_info_by_username\u001b[49m\u001b[43m(\u001b[49m\u001b[43musername\u001b[49m\u001b[43m)\u001b[49m\u001b[38;5;241m.\u001b[39mpk)\n",
      "File \u001b[1;32m~\\AppData\\Local\\Programs\\Python\\Python39\\lib\\site-packages\\instagrapi\\mixins\\user.py:197\u001b[0m, in \u001b[0;36mUserMixin.user_info_by_username\u001b[1;34m(self, username, use_cache)\u001b[0m\n\u001b[0;32m    195\u001b[0m     \u001b[38;5;28;01mif\u001b[39;00m \u001b[38;5;129;01mnot\u001b[39;00m \u001b[38;5;28misinstance\u001b[39m(e, ClientError):\n\u001b[0;32m    196\u001b[0m         \u001b[38;5;28mself\u001b[39m\u001b[38;5;241m.\u001b[39mlogger\u001b[38;5;241m.\u001b[39mexception(e)  \u001b[38;5;66;03m# Register unknown error\u001b[39;00m\n\u001b[1;32m--> 197\u001b[0m     user \u001b[38;5;241m=\u001b[39m \u001b[38;5;28;43mself\u001b[39;49m\u001b[38;5;241;43m.\u001b[39;49m\u001b[43muser_info_by_username_v1\u001b[49m\u001b[43m(\u001b[49m\u001b[43musername\u001b[49m\u001b[43m)\u001b[49m\n\u001b[0;32m    198\u001b[0m \u001b[38;5;28mself\u001b[39m\u001b[38;5;241m.\u001b[39m_users_cache[user\u001b[38;5;241m.\u001b[39mpk] \u001b[38;5;241m=\u001b[39m user\n\u001b[0;32m    199\u001b[0m \u001b[38;5;28mself\u001b[39m\u001b[38;5;241m.\u001b[39m_usernames_cache[user\u001b[38;5;241m.\u001b[39musername] \u001b[38;5;241m=\u001b[39m user\u001b[38;5;241m.\u001b[39mpk\n",
      "File \u001b[1;32m~\\AppData\\Local\\Programs\\Python\\Python39\\lib\\site-packages\\instagrapi\\mixins\\user.py:162\u001b[0m, in \u001b[0;36mUserMixin.user_info_by_username_v1\u001b[1;34m(self, username)\u001b[0m\n\u001b[0;32m    160\u001b[0m     result \u001b[38;5;241m=\u001b[39m \u001b[38;5;28mself\u001b[39m\u001b[38;5;241m.\u001b[39mprivate_request(\u001b[38;5;124mf\u001b[39m\u001b[38;5;124m\"\u001b[39m\u001b[38;5;124musers/\u001b[39m\u001b[38;5;132;01m{\u001b[39;00musername\u001b[38;5;132;01m}\u001b[39;00m\u001b[38;5;124m/usernameinfo/\u001b[39m\u001b[38;5;124m\"\u001b[39m)\n\u001b[0;32m    161\u001b[0m \u001b[38;5;28;01mexcept\u001b[39;00m ClientNotFoundError \u001b[38;5;28;01mas\u001b[39;00m e:\n\u001b[1;32m--> 162\u001b[0m     \u001b[38;5;28;01mraise\u001b[39;00m UserNotFound(e, username\u001b[38;5;241m=\u001b[39musername, \u001b[38;5;241m*\u001b[39m\u001b[38;5;241m*\u001b[39m\u001b[38;5;28mself\u001b[39m\u001b[38;5;241m.\u001b[39mlast_json)\n\u001b[0;32m    163\u001b[0m \u001b[38;5;28;01mexcept\u001b[39;00m ClientError \u001b[38;5;28;01mas\u001b[39;00m e:\n\u001b[0;32m    164\u001b[0m     \u001b[38;5;28;01mif\u001b[39;00m \u001b[38;5;124m\"\u001b[39m\u001b[38;5;124mUser not found\u001b[39m\u001b[38;5;124m\"\u001b[39m \u001b[38;5;129;01min\u001b[39;00m \u001b[38;5;28mstr\u001b[39m(e):\n",
      "\u001b[1;31mUserNotFound\u001b[0m: User not found"
     ]
    }
   ],
   "source": [
    "me = User(\"aryaramnes2033\")\n",
    "print(me.userid)"
   ]
  },
  {
   "cell_type": "code",
   "execution_count": null,
   "id": "eceb1586",
   "metadata": {},
   "outputs": [],
   "source": []
  },
  {
   "cell_type": "code",
   "execution_count": 104,
   "id": "c38a161f",
   "metadata": {},
   "outputs": [],
   "source": []
  },
  {
   "cell_type": "code",
   "execution_count": 121,
   "id": "b8e1ac81",
   "metadata": {},
   "outputs": [
    {
     "name": "stdout",
     "output_type": "stream",
     "text": [
      "len: 346\n",
      "fec: 324\n"
     ]
    },
    {
     "data": {
      "text/plain": [
       "True"
      ]
     },
     "execution_count": 121,
     "metadata": {},
     "output_type": "execute_result"
    }
   ],
   "source": [
    "print(\"len: %d\" %len(union))\n",
    "print(\"fec: %d\" %(0.7 * div.fec()))\n"
   ]
  },
  {
   "cell_type": "code",
   "execution_count": 132,
   "id": "183a051e",
   "metadata": {},
   "outputs": [],
   "source": [
    "MAX_FOLLOWERS_LIMIT = 500\n",
    "UNION_RATE = 0.7\n",
    "\n",
    "def follow_process(user):\n",
    "    with open(\"follow_proc.txt\", \"w\") as log:\n",
    "        fec = User.followers_count(user)\n",
    "        fic = User.following_count(user)\n",
    "        if fec <= MAX_FOLLOWERS_LIMIT:\n",
    "            if fec * UNION_RATE <= fic:\n",
    "                users_fec = div.get_followers()\n",
    "                users_fic = div.get_following()\n",
    "                union = set()\n",
    "                for user in users_fec:\n",
    "                    if user in users_fic:\n",
    "                        union.add(user)\n",
    "                if len(union) >= UNION_RATE * div.fec():\n",
    "                    cl.user_follow(user)\n",
    "                    log.writelines(user + \"\\n\")"
   ]
  },
  {
   "cell_type": "code",
   "execution_count": 38,
   "id": "a7b6b972",
   "metadata": {},
   "outputs": [],
   "source": [
    "with open(\"followed_from_arash.txt\", \"w\") as f:\n",
    "    for line in (listx & users):\n",
    "        f.writelines(line + \"\\n\")"
   ]
  },
  {
   "cell_type": "code",
   "execution_count": 43,
   "id": "5a205067",
   "metadata": {},
   "outputs": [],
   "source": [
    "for i in range(len(listx)):\n",
    "    listx[i] = cl.user_id_from_username(listx[i])"
   ]
  },
  {
   "cell_type": "code",
   "execution_count": 26,
   "id": "7db9ed14",
   "metadata": {},
   "outputs": [],
   "source": [
    "for user in data:\n",
    "    cl.user_unfollow(cl.user_id_from_username(user))"
   ]
  }
 ],
 "metadata": {
  "kernelspec": {
   "display_name": "Python 3 (ipykernel)",
   "language": "python",
   "name": "python3"
  },
  "language_info": {
   "codemirror_mode": {
    "name": "ipython",
    "version": 3
   },
   "file_extension": ".py",
   "mimetype": "text/x-python",
   "name": "python",
   "nbconvert_exporter": "python",
   "pygments_lexer": "ipython3",
   "version": "3.9.8"
  }
 },
 "nbformat": 4,
 "nbformat_minor": 5
}
